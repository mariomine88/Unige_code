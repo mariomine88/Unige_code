{
  "cells": [
    {
      "cell_type": "markdown",
      "metadata": {
        "id": "P2lOm5g2Zs1c"
      },
      "source": [
        "# LABORATORIO 3: Test statistici\n",
        "\n",
        "\n",
        "a.a. 2024/2025, 20/03/2025"
      ]
    },
    {
      "cell_type": "code",
      "execution_count": 2,
      "metadata": {
        "id": "DG6_rz0Y_1Tx"
      },
      "outputs": [],
      "source": [
        "import pandas as pd\n",
        "import matplotlib.pyplot as plt\n",
        "import numpy as np\n",
        "import scipy.stats as stats"
      ]
    },
    {
      "cell_type": "markdown",
      "metadata": {
        "id": "QYXUP9A4_cUe"
      },
      "source": [
        "**Test statisici**\n",
        "\n",
        "Utilizziamo la tabella integrate_titles che abbiamo prodotto durante il primo laboratorio. Vi ricordo che abbiamo effettuato integrazione di due dataset provenienti da Disney+ e Netflix, contenenti informazioni circa film e serie tv rilasciate sulle due piattaforme di streaming.\n",
        "Il dataset integrato è stato pulito e risulta quindi pronto per ulteriori analisi.\n",
        "\n",
        "1. Importiamo il dataset:"
      ]
    },
    {
      "cell_type": "code",
      "execution_count": 4,
      "metadata": {
        "id": "PnExuBeH_YAz"
      },
      "outputs": [],
      "source": [
        "#codice qui\n",
        "integrate_titles = pd.read_csv(\"integrate_titles_3.csv\")"
      ]
    },
    {
      "cell_type": "markdown",
      "metadata": {
        "id": "u-nCzS4SVRf3"
      },
      "source": [
        "visualizziamo il dataset"
      ]
    },
    {
      "cell_type": "code",
      "execution_count": 5,
      "metadata": {
        "colab": {
          "base_uri": "https://localhost:8080/",
          "height": 446
        },
        "id": "JNVIvuWdVS1Y",
        "outputId": "80acbac2-2bcd-4fd9-cb77-00f0d58238bf"
      },
      "outputs": [
        {
          "data": {
            "text/html": [
              "<div>\n",
              "<style scoped>\n",
              "    .dataframe tbody tr th:only-of-type {\n",
              "        vertical-align: middle;\n",
              "    }\n",
              "\n",
              "    .dataframe tbody tr th {\n",
              "        vertical-align: top;\n",
              "    }\n",
              "\n",
              "    .dataframe thead th {\n",
              "        text-align: right;\n",
              "    }\n",
              "</style>\n",
              "<table border=\"1\" class=\"dataframe\">\n",
              "  <thead>\n",
              "    <tr style=\"text-align: right;\">\n",
              "      <th></th>\n",
              "      <th>Unnamed: 0.2</th>\n",
              "      <th>Unnamed: 0.1</th>\n",
              "      <th>Unnamed: 0</th>\n",
              "      <th>id</th>\n",
              "      <th>title</th>\n",
              "      <th>type</th>\n",
              "      <th>release_year</th>\n",
              "      <th>age_certification</th>\n",
              "      <th>runtime</th>\n",
              "      <th>genres</th>\n",
              "      <th>...</th>\n",
              "      <th>director</th>\n",
              "      <th>country</th>\n",
              "      <th>date_added</th>\n",
              "      <th>rating</th>\n",
              "      <th>duration</th>\n",
              "      <th>year</th>\n",
              "      <th>month</th>\n",
              "      <th>day</th>\n",
              "      <th>imdb_score_quant</th>\n",
              "      <th>release_year_quant</th>\n",
              "    </tr>\n",
              "  </thead>\n",
              "  <tbody>\n",
              "    <tr>\n",
              "      <th>0</th>\n",
              "      <td>1</td>\n",
              "      <td>1</td>\n",
              "      <td>1</td>\n",
              "      <td>tm82169</td>\n",
              "      <td>Rocky</td>\n",
              "      <td>MOVIE</td>\n",
              "      <td>1976</td>\n",
              "      <td>PG</td>\n",
              "      <td>119</td>\n",
              "      <td>['drama', 'sport']</td>\n",
              "      <td>...</td>\n",
              "      <td>John G. Avildsen</td>\n",
              "      <td>United States</td>\n",
              "      <td>2019-08-01</td>\n",
              "      <td>PG</td>\n",
              "      <td>120 min</td>\n",
              "      <td>2019.0</td>\n",
              "      <td>8.0</td>\n",
              "      <td>1.0</td>\n",
              "      <td>EXCELLENT</td>\n",
              "      <td>VERY OLD</td>\n",
              "    </tr>\n",
              "    <tr>\n",
              "      <th>1</th>\n",
              "      <td>2</td>\n",
              "      <td>2</td>\n",
              "      <td>2</td>\n",
              "      <td>tm17823</td>\n",
              "      <td>Grease</td>\n",
              "      <td>MOVIE</td>\n",
              "      <td>1978</td>\n",
              "      <td>PG</td>\n",
              "      <td>110</td>\n",
              "      <td>['comedy', 'romance']</td>\n",
              "      <td>...</td>\n",
              "      <td>Randal Kleiser</td>\n",
              "      <td>United States</td>\n",
              "      <td>2019-11-01</td>\n",
              "      <td>PG</td>\n",
              "      <td>110 min</td>\n",
              "      <td>2019.0</td>\n",
              "      <td>11.0</td>\n",
              "      <td>1.0</td>\n",
              "      <td>VERY GOOD</td>\n",
              "      <td>VERY OLD</td>\n",
              "    </tr>\n",
              "    <tr>\n",
              "      <th>2</th>\n",
              "      <td>3</td>\n",
              "      <td>3</td>\n",
              "      <td>3</td>\n",
              "      <td>tm69975</td>\n",
              "      <td>Rocky II</td>\n",
              "      <td>MOVIE</td>\n",
              "      <td>1979</td>\n",
              "      <td>PG</td>\n",
              "      <td>119</td>\n",
              "      <td>['drama', 'sport']</td>\n",
              "      <td>...</td>\n",
              "      <td>Sylvester Stallone</td>\n",
              "      <td>United States</td>\n",
              "      <td>2019-08-01</td>\n",
              "      <td>PG</td>\n",
              "      <td>119 min</td>\n",
              "      <td>2019.0</td>\n",
              "      <td>8.0</td>\n",
              "      <td>1.0</td>\n",
              "      <td>VERY GOOD</td>\n",
              "      <td>VERY OLD</td>\n",
              "    </tr>\n",
              "    <tr>\n",
              "      <th>3</th>\n",
              "      <td>4</td>\n",
              "      <td>4</td>\n",
              "      <td>4</td>\n",
              "      <td>tm127384</td>\n",
              "      <td>Monty Python and the Holy Grail</td>\n",
              "      <td>MOVIE</td>\n",
              "      <td>1975</td>\n",
              "      <td>PG</td>\n",
              "      <td>91</td>\n",
              "      <td>['fantasy', 'comedy']</td>\n",
              "      <td>...</td>\n",
              "      <td>Terry Gilliam, Terry Jones</td>\n",
              "      <td>United Kingdom</td>\n",
              "      <td>2019-01-02</td>\n",
              "      <td>PG</td>\n",
              "      <td>92 min</td>\n",
              "      <td>2019.0</td>\n",
              "      <td>1.0</td>\n",
              "      <td>2.0</td>\n",
              "      <td>EXCELLENT</td>\n",
              "      <td>VERY OLD</td>\n",
              "    </tr>\n",
              "    <tr>\n",
              "      <th>4</th>\n",
              "      <td>5</td>\n",
              "      <td>5</td>\n",
              "      <td>5</td>\n",
              "      <td>ts22164</td>\n",
              "      <td>Monty Python's Flying Circus</td>\n",
              "      <td>SHOW</td>\n",
              "      <td>1969</td>\n",
              "      <td>TV-14</td>\n",
              "      <td>30</td>\n",
              "      <td>['comedy', 'european']</td>\n",
              "      <td>...</td>\n",
              "      <td>NaN</td>\n",
              "      <td>United Kingdom</td>\n",
              "      <td>2018-10-02</td>\n",
              "      <td>TV-14</td>\n",
              "      <td>4 Seasons</td>\n",
              "      <td>2018.0</td>\n",
              "      <td>10.0</td>\n",
              "      <td>2.0</td>\n",
              "      <td>EXCELLENT</td>\n",
              "      <td>VERY OLD</td>\n",
              "    </tr>\n",
              "  </tbody>\n",
              "</table>\n",
              "<p>5 rows × 27 columns</p>\n",
              "</div>"
            ],
            "text/plain": [
              "   Unnamed: 0.2  Unnamed: 0.1  Unnamed: 0        id  \\\n",
              "0             1             1           1   tm82169   \n",
              "1             2             2           2   tm17823   \n",
              "2             3             3           3   tm69975   \n",
              "3             4             4           4  tm127384   \n",
              "4             5             5           5   ts22164   \n",
              "\n",
              "                             title   type  release_year age_certification  \\\n",
              "0                            Rocky  MOVIE          1976                PG   \n",
              "1                           Grease  MOVIE          1978                PG   \n",
              "2                         Rocky II  MOVIE          1979                PG   \n",
              "3  Monty Python and the Holy Grail  MOVIE          1975                PG   \n",
              "4     Monty Python's Flying Circus   SHOW          1969             TV-14   \n",
              "\n",
              "   runtime                  genres  ...                    director  \\\n",
              "0      119      ['drama', 'sport']  ...            John G. Avildsen   \n",
              "1      110   ['comedy', 'romance']  ...              Randal Kleiser   \n",
              "2      119      ['drama', 'sport']  ...          Sylvester Stallone   \n",
              "3       91   ['fantasy', 'comedy']  ...  Terry Gilliam, Terry Jones   \n",
              "4       30  ['comedy', 'european']  ...                         NaN   \n",
              "\n",
              "          country  date_added  rating   duration    year  month  day  \\\n",
              "0   United States  2019-08-01      PG    120 min  2019.0    8.0  1.0   \n",
              "1   United States  2019-11-01      PG    110 min  2019.0   11.0  1.0   \n",
              "2   United States  2019-08-01      PG    119 min  2019.0    8.0  1.0   \n",
              "3  United Kingdom  2019-01-02      PG     92 min  2019.0    1.0  2.0   \n",
              "4  United Kingdom  2018-10-02   TV-14  4 Seasons  2018.0   10.0  2.0   \n",
              "\n",
              "  imdb_score_quant release_year_quant  \n",
              "0        EXCELLENT           VERY OLD  \n",
              "1        VERY GOOD           VERY OLD  \n",
              "2        VERY GOOD           VERY OLD  \n",
              "3        EXCELLENT           VERY OLD  \n",
              "4        EXCELLENT           VERY OLD  \n",
              "\n",
              "[5 rows x 27 columns]"
            ]
          },
          "execution_count": 5,
          "metadata": {},
          "output_type": "execute_result"
        }
      ],
      "source": [
        "#codice qui\n",
        "integrate_titles.head()"
      ]
    },
    {
      "cell_type": "code",
      "execution_count": 4,
      "metadata": {
        "colab": {
          "base_uri": "https://localhost:8080/"
        },
        "id": "yoJXIEgHFyVc",
        "outputId": "6878dc21-b3b5-41ac-d197-e14cda3bf89f"
      },
      "outputs": [
        {
          "name": "stdout",
          "output_type": "stream",
          "text": [
            "<class 'pandas.core.frame.DataFrame'>\n",
            "RangeIndex: 4170 entries, 0 to 4169\n",
            "Data columns (total 27 columns):\n",
            " #   Column                Non-Null Count  Dtype  \n",
            "---  ------                --------------  -----  \n",
            " 0   Unnamed: 0.2          4170 non-null   int64  \n",
            " 1   Unnamed: 0.1          4170 non-null   int64  \n",
            " 2   Unnamed: 0            4170 non-null   int64  \n",
            " 3   id                    4170 non-null   object \n",
            " 4   title                 4170 non-null   object \n",
            " 5   type                  4170 non-null   object \n",
            " 6   release_year          4170 non-null   int64  \n",
            " 7   age_certification     2593 non-null   object \n",
            " 8   runtime               4170 non-null   int64  \n",
            " 9   genres                4170 non-null   object \n",
            " 10  production_countries  4170 non-null   object \n",
            " 11  seasons               1588 non-null   float64\n",
            " 12  imdb_id               4170 non-null   object \n",
            " 13  imdb_score            4170 non-null   float64\n",
            " 14  imdb_votes            4165 non-null   float64\n",
            " 15  tmdb_popularity       4139 non-null   float64\n",
            " 16  tmdb_score            4068 non-null   float64\n",
            " 17  director              2634 non-null   object \n",
            " 18  country               3790 non-null   object \n",
            " 19  date_added            4169 non-null   object \n",
            " 20  rating                4168 non-null   object \n",
            " 21  duration              4169 non-null   object \n",
            " 22  year                  4169 non-null   float64\n",
            " 23  month                 4169 non-null   float64\n",
            " 24  day                   4169 non-null   float64\n",
            " 25  imdb_score_quant      4170 non-null   object \n",
            " 26  release_year_quant    4170 non-null   object \n",
            "dtypes: float64(8), int64(5), object(14)\n",
            "memory usage: 879.7+ KB\n"
          ]
        }
      ],
      "source": [
        "#codice qui per vedere numero di elementi e informazioni sulle colonne\n",
        "integrate_titles.shape\n",
        "integrate_titles.info()"
      ]
    },
    {
      "cell_type": "markdown",
      "metadata": {
        "id": "fX7iVZLwdlEd"
      },
      "source": [
        "**Parte 1. Usiamo la visualizzazione per farci delle idee**\n",
        "\n",
        "Visualizziamo i valori di imdb_score, separati per type, utilizzando dei box plot."
      ]
    },
    {
      "cell_type": "markdown",
      "metadata": {
        "id": "2qWOdyij8uED"
      },
      "source": [
        "prima di tutto verifichiamo che non ci siano valori nulli, come fatto la scorsa volta, ed eliminiamo le righe che dove imbd_score è nullo."
      ]
    },
    {
      "cell_type": "code",
      "execution_count": 5,
      "metadata": {
        "colab": {
          "base_uri": "https://localhost:8080/",
          "height": 496
        },
        "id": "7CN1mqp58wOy",
        "outputId": "6aaf4ffa-65ca-40a1-8344-c2609383b72e"
      },
      "outputs": [
        {
          "data": {
            "text/plain": [
              "<Axes: title={'center': 'imdb_score'}, xlabel='type'>"
            ]
          },
          "execution_count": 5,
          "metadata": {},
          "output_type": "execute_result"
        },
        {
          "data": {
            "image/png": "[encoded data removed]",
            "text/plain": [
              "<Figure size 640x480 with 1 Axes>"
            ]
          },
          "metadata": {},
          "output_type": "display_data"
        }
      ],
      "source": [
        "integrate_titles.boxplot(column = 'imdb_score',by='type')\n"
      ]
    },
    {
      "cell_type": "code",
      "execution_count": 6,
      "metadata": {
        "id": "Kms9k91A9VeS"
      },
      "outputs": [],
      "source": [
        "#codice per eliminare i valori nulli\n",
        "integrate_titles = integrate_titles.dropna(axis=0, subset=['imdb_score'])"
      ]
    },
    {
      "cell_type": "markdown",
      "metadata": {
        "id": "M4Ra52Xm-H7U"
      },
      "source": [
        "stessa cosa per tmdb"
      ]
    },
    {
      "cell_type": "code",
      "execution_count": 7,
      "metadata": {
        "id": "gBJulvEd-L5u"
      },
      "outputs": [],
      "source": [
        "integrate_titles = integrate_titles.dropna(axis=0, subset=['tmdb_score'])\n"
      ]
    },
    {
      "cell_type": "markdown",
      "metadata": {
        "id": "kPGE7Qf--V2x"
      },
      "source": [
        "visualizziamo quindi, quanto richiesto"
      ]
    },
    {
      "cell_type": "code",
      "execution_count": 8,
      "metadata": {
        "colab": {
          "base_uri": "https://localhost:8080/",
          "height": 496
        },
        "id": "Jl7WtQxZd117",
        "outputId": "32746f7a-64a9-45ae-f5a2-fa3b5dee72d5"
      },
      "outputs": [
        {
          "data": {
            "text/plain": [
              "Text(0.5, 1.0, 'box plot per tipo')"
            ]
          },
          "execution_count": 8,
          "metadata": {},
          "output_type": "execute_result"
        },
        {
          "data": {
            "image/png": "[encoded data removed]",
            "text/plain": [
              "<Figure size 640x480 with 1 Axes>"
            ]
          },
          "metadata": {},
          "output_type": "display_data"
        }
      ],
      "source": [
        "#codice qui\n",
        "integrate_titles.boxplot(column='tmdb_score', by='type')\n",
        "plt.title('box plot per tipo')"
      ]
    },
    {
      "cell_type": "markdown",
      "metadata": {
        "id": "-rr-jCzRfuPZ"
      },
      "source": [
        "sembrerebbe che i due box plots si sovrappongano, ma che, in generale, la mediana della valutazione per le serie sia maggiore rispetto ai movie.\n",
        "Ripetiamo ora la stessa cosa per tmdb_score"
      ]
    },
    {
      "cell_type": "code",
      "execution_count": 9,
      "metadata": {
        "colab": {
          "base_uri": "https://localhost:8080/",
          "height": 496
        },
        "id": "7kZ_Ham3fyzz",
        "outputId": "bb296869-0cc4-4d17-efb9-6871022e9509"
      },
      "outputs": [
        {
          "data": {
            "text/plain": [
              "Text(0.5, 1.0, 'box plot per tipo')"
            ]
          },
          "execution_count": 9,
          "metadata": {},
          "output_type": "execute_result"
        },
        {
          "data": {
            "image/png": "[encoded data removed]",
            "text/plain": [
              "<Figure size 640x480 with 1 Axes>"
            ]
          },
          "metadata": {},
          "output_type": "display_data"
        }
      ],
      "source": [
        "#codice qui\n",
        "integrate_titles.boxplot(column='tmdb_score', by='type')\n",
        "plt.title('box plot per tipo')"
      ]
    },
    {
      "cell_type": "markdown",
      "metadata": {
        "id": "MszaocPVFhut"
      },
      "source": [
        "troviamo un andamento simile per il tmdb_score.\n",
        "A questo punto ci chiediamo, questa differenza è statisticamente significativa? come possiamo fare per dimostrarlo?\n",
        "\n",
        "Possiamo utilizzare un test statistico. Proviamo con un t-test.\n",
        "\n",
        "Sappiamo che si devono verificare alcune ipotesi:\n",
        "1. Campione con numero di elementi n > 30;\n",
        "2. Popolazione N almeno dieci volte superiore al campione N > 10*n.\n",
        "\n",
        "Prima di tutto, stampiamo il numero di elementi per le due classi (SHOW e MOVIE)"
      ]
    },
    {
      "cell_type": "code",
      "execution_count": 10,
      "metadata": {
        "colab": {
          "base_uri": "https://localhost:8080/"
        },
        "id": "Y397WccJFsp7",
        "outputId": "1d7dd459-edf1-4ed0-a918-98fb09f80d5d"
      },
      "outputs": [
        {
          "name": "stdout",
          "output_type": "stream",
          "text": [
            "1543\n",
            "2525\n",
            "(4068, 27)\n"
          ]
        }
      ],
      "source": [
        "print(np.sum(integrate_titles['type']=='SHOW'))\n",
        "print(np.sum(integrate_titles['type']=='MOVIE'))\n",
        "print(integrate_titles.shape)"
      ]
    },
    {
      "cell_type": "markdown",
      "metadata": {
        "id": "fZSn22LOJBST"
      },
      "source": [
        "le ipotesi sono verificate, quindi possiamo applicare un t-test.\n",
        "\n",
        "Scegliamo un livello di significatività di 0.05 (intervallo di confidenza di 0.95).\n",
        "\n",
        "ipotesi nulla\n",
        "\n",
        "H0 = le media di imdb_score di SHOW e MOVIE non sono statisticamente diverse;\n",
        "\n",
        "ipotesi alternativa\n",
        "\n",
        "HA = le medie sono diverse.\n",
        "\n",
        "\n",
        "significatività = 0.05"
      ]
    },
    {
      "cell_type": "code",
      "execution_count": 11,
      "metadata": {
        "colab": {
          "base_uri": "https://localhost:8080/"
        },
        "id": "rqw8cxljJF7K",
        "outputId": "108cadea-cc4d-4109-c386-d54afd99f336"
      },
      "outputs": [
        {
          "name": "stdout",
          "output_type": "stream",
          "text": [
            "9.232488447371132e-156\n",
            "29.95384401598996\n"
          ]
        }
      ],
      "source": [
        "t_statistic, p_value = stats.ttest_1samp(a= integrate_titles['imdb_score'][integrate_titles['type']=='SHOW'], popmean= integrate_titles['imdb_score'][integrate_titles['type']=='MOVIE'].mean())\n",
        "print(p_value)\n",
        "print(t_statistic)"
      ]
    },
    {
      "cell_type": "markdown",
      "metadata": {
        "id": "6zFacPrKJzh1"
      },
      "source": [
        "che cosa deduciamo da questo?"
      ]
    },
    {
      "cell_type": "markdown",
      "metadata": {
        "id": "zWLi5UaUN6hR"
      },
      "source": [
        "siccome il p-value << significatività; deduciamo che possiamo rigettare l'ipotesi nulla in favore di quella alternativa."
      ]
    },
    {
      "cell_type": "markdown",
      "metadata": {
        "id": "HgRYbJuVKXYt"
      },
      "source": [
        "verifichiamo ora che la media dello score dei film sia più bassa rispetto a quella degli show. Dobbiamo usare il t-test ad una coda. Scegliamo un livello di significatività di 0.05 (intervallo di confidenza di 0.95).\n",
        "\n",
        "ipotesi nulla\n",
        "\n",
        "H0 = la media di imdb_score dei film è inferiore rispetto a quella degli show.\n",
        "\n",
        "ipotesi alternativa\n",
        "\n",
        "HA = la media di imdb_score è maggiore o uguale rispetto a quella degli show.\n",
        "\n",
        "\n",
        "significatività = 0.05"
      ]
    },
    {
      "cell_type": "code",
      "execution_count": 12,
      "metadata": {
        "colab": {
          "base_uri": "https://localhost:8080/"
        },
        "id": "z3KRDb8YKeN8",
        "outputId": "09ddb747-1d90-4b6b-bcef-60c418e360c9"
      },
      "outputs": [
        {
          "name": "stdout",
          "output_type": "stream",
          "text": [
            "1.0\n",
            "29.95384401598996\n"
          ]
        }
      ],
      "source": [
        "t_statistic, p_value = stats.ttest_1samp(a= integrate_titles['imdb_score'][integrate_titles['type']=='SHOW'], popmean= integrate_titles['imdb_score'][integrate_titles['type']=='MOVIE'].mean(),alternative='less')\n",
        "print(p_value)\n",
        "print(t_statistic)"
      ]
    },
    {
      "cell_type": "markdown",
      "metadata": {
        "id": "NUA45RKlK1te"
      },
      "source": [
        "e facciamo anche un'ultima prova come sanity check, verificando l'alternativa rimasta."
      ]
    },
    {
      "cell_type": "code",
      "execution_count": 13,
      "metadata": {
        "colab": {
          "base_uri": "https://localhost:8080/"
        },
        "id": "QK3sSojhK6FV",
        "outputId": "098f5e32-9dca-410f-cff3-5244b695d2a3"
      },
      "outputs": [
        {
          "name": "stdout",
          "output_type": "stream",
          "text": [
            "4.616244223685566e-156\n",
            "29.95384401598996\n"
          ]
        }
      ],
      "source": [
        "t_statistic, p_value = stats.ttest_1samp(a= integrate_titles['imdb_score'][integrate_titles['type']=='SHOW'], popmean= integrate_titles['imdb_score'][integrate_titles['type']=='MOVIE'].mean(),alternative='greater')\n",
        "print(p_value)\n",
        "print(t_statistic)"
      ]
    },
    {
      "cell_type": "markdown",
      "metadata": {
        "id": "Fj57wBSaK7Dp"
      },
      "source": [
        "ripetete quanto appena fatto per lo score di tmdb (applicate l'ipotesi che ritenete più corretta, usando i box plots per avere l'idea precisa)."
      ]
    },
    {
      "cell_type": "code",
      "execution_count": 14,
      "metadata": {
        "colab": {
          "base_uri": "https://localhost:8080/"
        },
        "id": "ZXZowjGTK-Sm",
        "outputId": "e49b6ad3-d5d4-4ab1-88c2-5a28528e4375"
      },
      "outputs": [
        {
          "name": "stdout",
          "output_type": "stream",
          "text": [
            "3.271145405062244e-176\n",
            "32.3784481690246\n"
          ]
        }
      ],
      "source": [
        "t_statistic, p_value = stats.ttest_1samp(a= integrate_titles['tmdb_score'][integrate_titles['type']=='SHOW'], popmean= integrate_titles['tmdb_score'][integrate_titles['type']=='MOVIE'].mean(),alternative='greater')\n",
        "print(p_value)\n",
        "print(t_statistic)"
      ]
    },
    {
      "cell_type": "markdown",
      "metadata": {
        "id": "QAsuGdkoK9eG"
      },
      "source": [
        "adesso approfondiamo la nostra analisi, prima di tutto visualizzando lo score dei film vecchi (prima del 2010) e recenti (post 2010).\n",
        "Innanzitutto, creiamo una nuova colonna che ci dica se il film è vecchio o nuovo, secondo questa classificazione. Potremmo mettere 1 se è vecchio e 0 altrimenti."
      ]
    },
    {
      "cell_type": "code",
      "execution_count": 15,
      "metadata": {
        "id": "pOrPc6lELizJ"
      },
      "outputs": [],
      "source": [
        "integrate_titles['old'] = (integrate_titles['release_year']>=2010).astype(int)"
      ]
    },
    {
      "cell_type": "markdown",
      "metadata": {
        "id": "JHPeJKR0Lsm6"
      },
      "source": [
        "stampiamo il risultato"
      ]
    },
    {
      "cell_type": "code",
      "execution_count": 16,
      "metadata": {
        "colab": {
          "base_uri": "https://localhost:8080/"
        },
        "id": "0no9_dwTLud_",
        "outputId": "2971e23b-e40c-4c4d-8f09-9ac1efa85761"
      },
      "outputs": [
        {
          "data": {
            "text/plain": [
              "[0,\n",
              " 0,\n",
              " 0,\n",
              " 0,\n",
              " 0,\n",
              " 0,\n",
              " 0,\n",
              " 0,\n",
              " 0,\n",
              " 0,\n",
              " 0,\n",
              " 0,\n",
              " 0,\n",
              " 0,\n",
              " 0,\n",
              " 0,\n",
              " 0,\n",
              " 0,\n",
              " 0,\n",
              " 0,\n",
              " 0,\n",
              " 1,\n",
              " 0,\n",
              " 0,\n",
              " 0,\n",
              " 0,\n",
              " 0,\n",
              " 0,\n",
              " 0,\n",
              " 0,\n",
              " 1,\n",
              " 0,\n",
              " 0,\n",
              " 0,\n",
              " 0,\n",
              " 0,\n",
              " 0,\n",
              " 0,\n",
              " 0,\n",
              " 1,\n",
              " 0,\n",
              " 0,\n",
              " 0,\n",
              " 0,\n",
              " 0,\n",
              " 0,\n",
              " 0,\n",
              " 0,\n",
              " 0,\n",
              " 0]"
            ]
          },
          "execution_count": 16,
          "metadata": {},
          "output_type": "execute_result"
        }
      ],
      "source": [
        "integrate_titles['old'].tolist()[0:50]"
      ]
    },
    {
      "cell_type": "markdown",
      "metadata": {
        "id": "m6WZGqitMisi"
      },
      "source": [
        "quindi visualizziamo con box plot"
      ]
    },
    {
      "cell_type": "code",
      "execution_count": 17,
      "metadata": {
        "colab": {
          "base_uri": "https://localhost:8080/",
          "height": 496
        },
        "id": "arl9E7bHMlNc",
        "outputId": "7c791205-362a-4fd1-beb6-c62c1d83a3dd"
      },
      "outputs": [
        {
          "data": {
            "text/plain": [
              "Text(0.5, 1.0, 'box plot per tipo')"
            ]
          },
          "execution_count": 17,
          "metadata": {},
          "output_type": "execute_result"
        },
        {
          "data": {
            "image/png": "[encoded data removed]",
            "text/plain": [
              "<Figure size 640x480 with 1 Axes>"
            ]
          },
          "metadata": {},
          "output_type": "display_data"
        }
      ],
      "source": [
        "integrate_titles.boxplot(column='imdb_score', by='old')\n",
        "plt.title('box plot per tipo')"
      ]
    },
    {
      "cell_type": "markdown",
      "metadata": {
        "id": "W78CXjB2Ms_-"
      },
      "source": [
        "vi sembra che ci sia una differenza statistica tra le due classi che abbiamo creato?\n",
        "utilizziamo un t-test. Ripetiamo le verifiche necessarie, e poi eseguiamo il t-test.\n",
        "\n",
        "Scegliamo un livello di significatività di 0.05 (intervallo di confidenza di 0.95).\n",
        "\n",
        "ipotesi nulla\n",
        "\n",
        "H0 = le media di imdb_score dei film old e recenti non sono statisticamente diverse\n",
        "\n",
        "ipotesi alternativa\n",
        "\n",
        "HA = le medie sono diverse.\n",
        "\n",
        "\n",
        "significatività = 0.05"
      ]
    },
    {
      "cell_type": "code",
      "execution_count": 18,
      "metadata": {
        "colab": {
          "base_uri": "https://localhost:8080/"
        },
        "id": "5ECOYoJPNEMP",
        "outputId": "49575830-5287-4c27-a1c6-52419cc59d22"
      },
      "outputs": [
        {
          "name": "stdout",
          "output_type": "stream",
          "text": [
            "3419\n",
            "649\n",
            "(4068, 28)\n",
            "0.09467106981031759\n",
            "-1.6717200660027884\n"
          ]
        }
      ],
      "source": [
        "print(np.sum(integrate_titles['old']==1))\n",
        "print(np.sum(integrate_titles['old']==0))\n",
        "print(integrate_titles.shape)\n",
        "t_statistic, p_value = stats.ttest_1samp(a= integrate_titles['imdb_score'][integrate_titles['old']==1], popmean= integrate_titles['imdb_score'][integrate_titles['old']==0].mean())\n",
        "print(p_value)\n",
        "print(t_statistic)"
      ]
    },
    {
      "cell_type": "markdown",
      "metadata": {
        "id": "4ecV_Ds9KoK-"
      },
      "source": [
        "Deducete voi i risultati di questo t-test, e ditemi se vi torna il risultato.\n",
        "\n"
      ]
    },
    {
      "cell_type": "markdown",
      "metadata": {
        "id": "mVcQmR2m-zNa"
      },
      "source": [
        "A questo punto, utilizziamo le colonne  quantize_imdb_score e quantize_release_year che abbiamo prodotto durante lo scorso laboratorio.\n",
        "Recuperiamo la rappresentazione OLAP, e visualizziamo il numero di MOVIE, con uno slicing, concentrandoci su quantize_imdb_score.\n"
      ]
    },
    {
      "cell_type": "code",
      "execution_count": 19,
      "metadata": {
        "id": "_H0xngkPQLOE"
      },
      "outputs": [],
      "source": [
        "quantize_imdb_score = ['LOW','SUFFICIENT','GOOD','VERY GOOD','EXCELLENT']\n",
        "quantize_release_year = ['VERY OLD','OLD','RECENT','VERY RECENT']\n",
        "quantize_type = ['MOVIE','SHOW']\n",
        "OLAP = np.zeros((5,4,2))\n",
        "for z in range(0,len(quantize_type)):\n",
        "  Awards_prog_z = integrate_titles[integrate_titles['type']==quantize_type[z]]\n",
        "  for j in range(0,len(quantize_release_year)):\n",
        "    for i in range(0,len(quantize_imdb_score)):\n",
        "      OLAP[i,j,z] = np.sum((Awards_prog_z['imdb_score_quant'] == quantize_imdb_score[i]) &(Awards_prog_z['release_year_quant'] == quantize_release_year[j]))"
      ]
    },
    {
      "cell_type": "markdown",
      "metadata": {
        "id": "UKdrbtQvXRdI"
      },
      "source": [
        "facciamo un dicing, concentrandoci su MOVIE e film RECENT."
      ]
    },
    {
      "cell_type": "code",
      "execution_count": 20,
      "metadata": {
        "colab": {
          "base_uri": "https://localhost:8080/"
        },
        "id": "-Berr_klXVVt",
        "outputId": "0ddaf415-49d9-4881-b5ed-a6ecbf1381fb"
      },
      "outputs": [
        {
          "name": "stdout",
          "output_type": "stream",
          "text": [
            "[179. 430. 668. 388.  41.]\n"
          ]
        }
      ],
      "source": [
        "scores_movies_recent = OLAP[:,3,0]\n",
        "print(scores_movies_recent)"
      ]
    },
    {
      "cell_type": "markdown",
      "metadata": {
        "id": "mcAvrYyBQK0x"
      },
      "source": [
        "Utilizzando altri servizi di streaming, otteniamo una versione analoga delle colonne quantizzate, relative ai soli film recenti (gli stessi del nostro dataset), di questo tipo:"
      ]
    },
    {
      "cell_type": "code",
      "execution_count": 21,
      "metadata": {
        "id": "9oe3YoD-O7VR"
      },
      "outputs": [],
      "source": [
        "imdb_score_altri_servizi = [180,410,700,370,46]"
      ]
    },
    {
      "cell_type": "markdown",
      "metadata": {
        "id": "8ROvSlELXyVV"
      },
      "source": [
        "vogliamo capire se i conteggi estratti dalle due diverse sorgenti (netflix e disney+ e altre due) appartengono alla stessa distribuzione.\n",
        "Possiamo farlo applicando un test chi-quadrato.\n",
        "\n",
        "Usiamo un Chi-quadrato per l'idoneita'. Condizioni.\n",
        "\n",
        "Abbiamo almeno 5 conteggi? SI;\n",
        "Le singole osservazioni sono indipendenti e le dimensioni della popolazione devono essere pari ad almeno 10 volte quelle del campione (10n < N). Verificata, abbiamo oltre 4000 film soltanto nel dataset Netflix e Disney+."
      ]
    },
    {
      "cell_type": "code",
      "execution_count": 22,
      "metadata": {
        "colab": {
          "base_uri": "https://localhost:8080/"
        },
        "id": "0S-YOnRd-372",
        "outputId": "4eb6a4f3-5947-40d3-824d-1c8736fd816c"
      },
      "outputs": [
        {
          "name": "stdout",
          "output_type": "stream",
          "text": [
            "3.8631763910555\n",
            "0.4248394810290381\n"
          ]
        }
      ],
      "source": [
        "chi_squared, p_value = stats.chisquare(f_obs= scores_movies_recent, f_exp= imdb_score_altri_servizi)\n",
        "\n",
        "print(chi_squared)\n",
        "print(p_value)"
      ]
    },
    {
      "cell_type": "markdown",
      "metadata": {
        "id": "0YxFnQDPZKyS"
      },
      "source": [
        "interpretiamo i risultati del test:\n",
        "\n",
        "i gradi di libertà sono n = (numero di colonne -1) = 5 - 1 = 4.\n",
        "\n",
        "scegliamo un intervallo di confidenza di 0.95.\n",
        "\n",
        "Prendendo la tabella del chi-quadrato, notiamo che il valore critico del Chi quadrato è 9.488, quindi il valore ottenuto è < del valore critico.\n",
        "\n",
        "Deduciamo allora che non possiamo rigettare l'ipotesi nulla, secondo cui gli indici imbd_score relativi ai due servizi di streaming seguono la stessa distribuzione.\n"
      ]
    },
    {
      "cell_type": "markdown",
      "metadata": {
        "id": "HQBAKZoVVIBj"
      },
      "source": [
        "Dagli stessi servizi di streaming alternativi a Netflix e Disney plus, troviamo che i film con gradimento low, hanno la seguente distribuzione in termini di anno di rilascio:"
      ]
    },
    {
      "cell_type": "code",
      "execution_count": 23,
      "metadata": {
        "id": "OE2LgSMi_CXP"
      },
      "outputs": [],
      "source": [
        "#codice qui\n",
        "release_year_altri_servizi_old_movies = [20,42,250,299]\n"
      ]
    },
    {
      "cell_type": "markdown",
      "metadata": {
        "id": "dGriMzgvWji7"
      },
      "source": [
        "verificate se i conteggi estratti dalle due sorgenti seguono la stessa distribuzione.\n",
        "\n",
        "**tip** calcoliamo prima il numero di gradi di libertà, poi confrontiamo, al solito, il valore del chi-quadrato ottenuto con il valore estratto dalla tabella del chi-quadrato."
      ]
    },
    {
      "cell_type": "code",
      "execution_count": 24,
      "metadata": {
        "colab": {
          "base_uri": "https://localhost:8080/"
        },
        "id": "6GvtdEZvWPHk",
        "outputId": "b8d4e80e-030b-48d0-b901-d96184497906"
      },
      "outputs": [
        {
          "name": "stdout",
          "output_type": "stream",
          "text": [
            "[ 19.  41. 121. 430.]\n",
            "124.03245835324097\n",
            "1.0443875410416128e-26\n"
          ]
        }
      ],
      "source": [
        "#dicing su MOVIES e OLD\n",
        "release_year_movies_old = OLAP[1,:,0]\n",
        "print(release_year_movies_old)\n",
        "#test chi-quadrato idoneità\n",
        "chi_squared, p_value = stats.chisquare(f_obs= release_year_movies_old, f_exp= release_year_altri_servizi_old_movies)\n",
        "print(chi_squared)\n",
        "print(p_value)\n",
        "\n"
      ]
    },
    {
      "cell_type": "markdown",
      "metadata": {
        "id": "ZXaPICNlXQWL"
      },
      "source": [
        "commentate con le opportune conclusioni."
      ]
    }
  ],
  "metadata": {
    "colab": {
      "provenance": []
    },
    "kernelspec": {
      "display_name": ".venv",
      "language": "python",
      "name": "python3"
    },
    "language_info": {
      "codemirror_mode": {
        "name": "ipython",
        "version": 3
      },
      "file_extension": ".py",
      "mimetype": "text/x-python",
      "name": "python",
      "nbconvert_exporter": "python",
      "pygments_lexer": "ipython3",
      "version": "3.11.9"
    }
  },
  "nbformat": 4,
  "nbformat_minor": 0
}
