{
  "cells": [
    {
      "cell_type": "markdown",
      "metadata": {
        "id": "vPu8HXVgLYOq"
      },
      "source": [
        "# LABORATORIO 2: ANALISI STATISTICA E OLAP\n",
        "\n",
        "\n",
        "a.a. 2024/2025, 13/03/2025"
      ]
    },
    {
      "cell_type": "code",
      "execution_count": 2,
      "metadata": {
        "id": "DG6_rz0Y_1Tx"
      },
      "outputs": [],
      "source": [
        "import pandas as pd\n",
        "import matplotlib.pyplot as plt\n",
        "import numpy as np"
      ]
    },
    {
      "cell_type": "markdown",
      "metadata": {
        "id": "QYXUP9A4_cUe"
      },
      "source": [
        "**Parte 1 analisi statistica**\n",
        "\n",
        "Utilizziamo la tabella integrate_titles che abbiamo prodotto durante il primo laboratorio. Vi ricordo che abbiamo effettuato integrazione di due dataset provenienti da Disney+ e Netflix, contenenti informazioni circa film e serie tv rilasciate sulle due piattaforme di streaming.\n",
        "Il dataset integrato è stato pulito e risulta quindi pronto per ulteriori analisi.\n",
        "\n",
        "1. Importiamo il dataset:"
      ]
    },
    {
      "cell_type": "code",
      "execution_count": 3,
      "metadata": {
        "id": "PnExuBeH_YAz"
      },
      "outputs": [],
      "source": [
        "integrate_titles = pd.read_csv(\"integrate_titles2.csv\")\n",
        "\n"
      ]
    },
    {
      "cell_type": "markdown",
      "metadata": {
        "id": "u-nCzS4SVRf3"
      },
      "source": [
        "visualizziamo il dataset"
      ]
    },
    {
      "cell_type": "code",
      "execution_count": null,
      "metadata": {
        "colab": {
          "base_uri": "https://localhost:8080/",
          "height": 446
        },
        "id": "JNVIvuWdVS1Y",
        "outputId": "eec4e43e-2fdd-4cbe-feda-8c7a82a8a391"
      },
      "outputs": [
        {
          "data": {
            "application/vnd.google.colaboratory.intrinsic+json": {
              "type": "dataframe",
              "variable_name": "integrate_titles"
            },
            "text/html": [
              "\n",
              "  <div id=\"df-9fab6cf3-e0a5-4379-ae0c-3418cc5dd13e\" class=\"colab-df-container\">\n",
              "    <div>\n",
              "<style scoped>\n",
              "    .dataframe tbody tr th:only-of-type {\n",
              "        vertical-align: middle;\n",
              "    }\n",
              "\n",
              "    .dataframe tbody tr th {\n",
              "        vertical-align: top;\n",
              "    }\n",
              "\n",
              "    .dataframe thead th {\n",
              "        text-align: right;\n",
              "    }\n",
              "</style>\n",
              "<table border=\"1\" class=\"dataframe\">\n",
              "  <thead>\n",
              "    <tr style=\"text-align: right;\">\n",
              "      <th></th>\n",
              "      <th>Unnamed: 0.1</th>\n",
              "      <th>Unnamed: 0</th>\n",
              "      <th>id</th>\n",
              "      <th>title</th>\n",
              "      <th>type</th>\n",
              "      <th>release_year</th>\n",
              "      <th>age_certification</th>\n",
              "      <th>runtime</th>\n",
              "      <th>genres</th>\n",
              "      <th>production_countries</th>\n",
              "      <th>...</th>\n",
              "      <th>tmdb_popularity</th>\n",
              "      <th>tmdb_score</th>\n",
              "      <th>director</th>\n",
              "      <th>country</th>\n",
              "      <th>date_added</th>\n",
              "      <th>rating</th>\n",
              "      <th>duration</th>\n",
              "      <th>year</th>\n",
              "      <th>month</th>\n",
              "      <th>day</th>\n",
              "    </tr>\n",
              "  </thead>\n",
              "  <tbody>\n",
              "    <tr>\n",
              "      <th>0</th>\n",
              "      <td>0</td>\n",
              "      <td>0</td>\n",
              "      <td>ts300399</td>\n",
              "      <td>Five Came Back: The Reference Films</td>\n",
              "      <td>SHOW</td>\n",
              "      <td>1945</td>\n",
              "      <td>TV-MA</td>\n",
              "      <td>51</td>\n",
              "      <td>['documentation']</td>\n",
              "      <td>['US']</td>\n",
              "      <td>...</td>\n",
              "      <td>0.601</td>\n",
              "      <td>NaN</td>\n",
              "      <td>NaN</td>\n",
              "      <td>United States</td>\n",
              "      <td>2021-02-09</td>\n",
              "      <td>TV-MA</td>\n",
              "      <td>1 Season</td>\n",
              "      <td>2021.0</td>\n",
              "      <td>2.0</td>\n",
              "      <td>9.0</td>\n",
              "    </tr>\n",
              "    <tr>\n",
              "      <th>1</th>\n",
              "      <td>1</td>\n",
              "      <td>1</td>\n",
              "      <td>tm82169</td>\n",
              "      <td>Rocky</td>\n",
              "      <td>MOVIE</td>\n",
              "      <td>1976</td>\n",
              "      <td>PG</td>\n",
              "      <td>119</td>\n",
              "      <td>['drama', 'sport']</td>\n",
              "      <td>['US']</td>\n",
              "      <td>...</td>\n",
              "      <td>99.713</td>\n",
              "      <td>7.783</td>\n",
              "      <td>John G. Avildsen</td>\n",
              "      <td>United States</td>\n",
              "      <td>2019-08-01</td>\n",
              "      <td>PG</td>\n",
              "      <td>120 min</td>\n",
              "      <td>2019.0</td>\n",
              "      <td>8.0</td>\n",
              "      <td>1.0</td>\n",
              "    </tr>\n",
              "    <tr>\n",
              "      <th>2</th>\n",
              "      <td>2</td>\n",
              "      <td>2</td>\n",
              "      <td>tm17823</td>\n",
              "      <td>Grease</td>\n",
              "      <td>MOVIE</td>\n",
              "      <td>1978</td>\n",
              "      <td>PG</td>\n",
              "      <td>110</td>\n",
              "      <td>['comedy', 'romance']</td>\n",
              "      <td>['US']</td>\n",
              "      <td>...</td>\n",
              "      <td>33.160</td>\n",
              "      <td>7.406</td>\n",
              "      <td>Randal Kleiser</td>\n",
              "      <td>United States</td>\n",
              "      <td>2019-11-01</td>\n",
              "      <td>PG</td>\n",
              "      <td>110 min</td>\n",
              "      <td>2019.0</td>\n",
              "      <td>11.0</td>\n",
              "      <td>1.0</td>\n",
              "    </tr>\n",
              "    <tr>\n",
              "      <th>3</th>\n",
              "      <td>3</td>\n",
              "      <td>3</td>\n",
              "      <td>tm69975</td>\n",
              "      <td>Rocky II</td>\n",
              "      <td>MOVIE</td>\n",
              "      <td>1979</td>\n",
              "      <td>PG</td>\n",
              "      <td>119</td>\n",
              "      <td>['drama', 'sport']</td>\n",
              "      <td>['US']</td>\n",
              "      <td>...</td>\n",
              "      <td>74.191</td>\n",
              "      <td>7.200</td>\n",
              "      <td>Sylvester Stallone</td>\n",
              "      <td>United States</td>\n",
              "      <td>2019-08-01</td>\n",
              "      <td>PG</td>\n",
              "      <td>119 min</td>\n",
              "      <td>2019.0</td>\n",
              "      <td>8.0</td>\n",
              "      <td>1.0</td>\n",
              "    </tr>\n",
              "    <tr>\n",
              "      <th>4</th>\n",
              "      <td>4</td>\n",
              "      <td>4</td>\n",
              "      <td>tm127384</td>\n",
              "      <td>Monty Python and the Holy Grail</td>\n",
              "      <td>MOVIE</td>\n",
              "      <td>1975</td>\n",
              "      <td>PG</td>\n",
              "      <td>91</td>\n",
              "      <td>['fantasy', 'comedy']</td>\n",
              "      <td>['GB']</td>\n",
              "      <td>...</td>\n",
              "      <td>20.964</td>\n",
              "      <td>7.804</td>\n",
              "      <td>Terry Gilliam, Terry Jones</td>\n",
              "      <td>United Kingdom</td>\n",
              "      <td>2019-01-02</td>\n",
              "      <td>PG</td>\n",
              "      <td>92 min</td>\n",
              "      <td>2019.0</td>\n",
              "      <td>1.0</td>\n",
              "      <td>2.0</td>\n",
              "    </tr>\n",
              "  </tbody>\n",
              "</table>\n",
              "<p>5 rows × 24 columns</p>\n",
              "</div>\n",
              "    <div class=\"colab-df-buttons\">\n",
              "\n",
              "  <div class=\"colab-df-container\">\n",
              "    <button class=\"colab-df-convert\" onclick=\"convertToInteractive('df-9fab6cf3-e0a5-4379-ae0c-3418cc5dd13e')\"\n",
              "            title=\"Convert this dataframe to an interactive table.\"\n",
              "            style=\"display:none;\">\n",
              "\n",
              "  <svg xmlns=\"http://www.w3.org/2000/svg\" height=\"24px\" viewBox=\"0 -960 960 960\">\n",
              "    <path d=\"M120-120v-720h720v720H120Zm60-500h600v-160H180v160Zm220 220h160v-160H400v160Zm0 220h160v-160H400v160ZM180-400h160v-160H180v160Zm440 0h160v-160H620v160ZM180-180h160v-160H180v160Zm440 0h160v-160H620v160Z\"/>\n",
              "  </svg>\n",
              "    </button>\n",
              "\n",
              "  <style>\n",
              "    .colab-df-container {\n",
              "      display:flex;\n",
              "      gap: 12px;\n",
              "    }\n",
              "\n",
              "    .colab-df-convert {\n",
              "      background-color: #E8F0FE;\n",
              "      border: none;\n",
              "      border-radius: 50%;\n",
              "      cursor: pointer;\n",
              "      display: none;\n",
              "      fill: #1967D2;\n",
              "      height: 32px;\n",
              "      padding: 0 0 0 0;\n",
              "      width: 32px;\n",
              "    }\n",
              "\n",
              "    .colab-df-convert:hover {\n",
              "      background-color: #E2EBFA;\n",
              "      box-shadow: 0px 1px 2px rgba(60, 64, 67, 0.3), 0px 1px 3px 1px rgba(60, 64, 67, 0.15);\n",
              "      fill: #174EA6;\n",
              "    }\n",
              "\n",
              "    .colab-df-buttons div {\n",
              "      margin-bottom: 4px;\n",
              "    }\n",
              "\n",
              "    [theme=dark] .colab-df-convert {\n",
              "      background-color: #3B4455;\n",
              "      fill: #D2E3FC;\n",
              "    }\n",
              "\n",
              "    [theme=dark] .colab-df-convert:hover {\n",
              "      background-color: #434B5C;\n",
              "      box-shadow: 0px 1px 3px 1px rgba(0, 0, 0, 0.15);\n",
              "      filter: drop-shadow(0px 1px 2px rgba(0, 0, 0, 0.3));\n",
              "      fill: #FFFFFF;\n",
              "    }\n",
              "  </style>\n",
              "\n",
              "    <script>\n",
              "      const buttonEl =\n",
              "        document.querySelector('#df-9fab6cf3-e0a5-4379-ae0c-3418cc5dd13e button.colab-df-convert');\n",
              "      buttonEl.style.display =\n",
              "        google.colab.kernel.accessAllowed ? 'block' : 'none';\n",
              "\n",
              "      async function convertToInteractive(key) {\n",
              "        const element = document.querySelector('#df-9fab6cf3-e0a5-4379-ae0c-3418cc5dd13e');\n",
              "        const dataTable =\n",
              "          await google.colab.kernel.invokeFunction('convertToInteractive',\n",
              "                                                    [key], {});\n",
              "        if (!dataTable) return;\n",
              "\n",
              "        const docLinkHtml = 'Like what you see? Visit the ' +\n",
              "          '<a target=\"_blank\" href=https://colab.research.google.com/notebooks/data_table.ipynb>data table notebook</a>'\n",
              "          + ' to learn more about interactive tables.';\n",
              "        element.innerHTML = '';\n",
              "        dataTable['output_type'] = 'display_data';\n",
              "        await google.colab.output.renderOutput(dataTable, element);\n",
              "        const docLink = document.createElement('div');\n",
              "        docLink.innerHTML = docLinkHtml;\n",
              "        element.appendChild(docLink);\n",
              "      }\n",
              "    </script>\n",
              "  </div>\n",
              "\n",
              "\n",
              "<div id=\"df-2aeea96d-d95e-4779-a18b-2585cfe6f92b\">\n",
              "  <button class=\"colab-df-quickchart\" onclick=\"quickchart('df-2aeea96d-d95e-4779-a18b-2585cfe6f92b')\"\n",
              "            title=\"Suggest charts\"\n",
              "            style=\"display:none;\">\n",
              "\n",
              "<svg xmlns=\"http://www.w3.org/2000/svg\" height=\"24px\"viewBox=\"0 0 24 24\"\n",
              "     width=\"24px\">\n",
              "    <g>\n",
              "        <path d=\"M19 3H5c-1.1 0-2 .9-2 2v14c0 1.1.9 2 2 2h14c1.1 0 2-.9 2-2V5c0-1.1-.9-2-2-2zM9 17H7v-7h2v7zm4 0h-2V7h2v10zm4 0h-2v-4h2v4z\"/>\n",
              "    </g>\n",
              "</svg>\n",
              "  </button>\n",
              "\n",
              "<style>\n",
              "  .colab-df-quickchart {\n",
              "      --bg-color: #E8F0FE;\n",
              "      --fill-color: #1967D2;\n",
              "      --hover-bg-color: #E2EBFA;\n",
              "      --hover-fill-color: #174EA6;\n",
              "      --disabled-fill-color: #AAA;\n",
              "      --disabled-bg-color: #DDD;\n",
              "  }\n",
              "\n",
              "  [theme=dark] .colab-df-quickchart {\n",
              "      --bg-color: #3B4455;\n",
              "      --fill-color: #D2E3FC;\n",
              "      --hover-bg-color: #434B5C;\n",
              "      --hover-fill-color: #FFFFFF;\n",
              "      --disabled-bg-color: #3B4455;\n",
              "      --disabled-fill-color: #666;\n",
              "  }\n",
              "\n",
              "  .colab-df-quickchart {\n",
              "    background-color: var(--bg-color);\n",
              "    border: none;\n",
              "    border-radius: 50%;\n",
              "    cursor: pointer;\n",
              "    display: none;\n",
              "    fill: var(--fill-color);\n",
              "    height: 32px;\n",
              "    padding: 0;\n",
              "    width: 32px;\n",
              "  }\n",
              "\n",
              "  .colab-df-quickchart:hover {\n",
              "    background-color: var(--hover-bg-color);\n",
              "    box-shadow: 0 1px 2px rgba(60, 64, 67, 0.3), 0 1px 3px 1px rgba(60, 64, 67, 0.15);\n",
              "    fill: var(--button-hover-fill-color);\n",
              "  }\n",
              "\n",
              "  .colab-df-quickchart-complete:disabled,\n",
              "  .colab-df-quickchart-complete:disabled:hover {\n",
              "    background-color: var(--disabled-bg-color);\n",
              "    fill: var(--disabled-fill-color);\n",
              "    box-shadow: none;\n",
              "  }\n",
              "\n",
              "  .colab-df-spinner {\n",
              "    border: 2px solid var(--fill-color);\n",
              "    border-color: transparent;\n",
              "    border-bottom-color: var(--fill-color);\n",
              "    animation:\n",
              "      spin 1s steps(1) infinite;\n",
              "  }\n",
              "\n",
              "  @keyframes spin {\n",
              "    0% {\n",
              "      border-color: transparent;\n",
              "      border-bottom-color: var(--fill-color);\n",
              "      border-left-color: var(--fill-color);\n",
              "    }\n",
              "    20% {\n",
              "      border-color: transparent;\n",
              "      border-left-color: var(--fill-color);\n",
              "      border-top-color: var(--fill-color);\n",
              "    }\n",
              "    30% {\n",
              "      border-color: transparent;\n",
              "      border-left-color: var(--fill-color);\n",
              "      border-top-color: var(--fill-color);\n",
              "      border-right-color: var(--fill-color);\n",
              "    }\n",
              "    40% {\n",
              "      border-color: transparent;\n",
              "      border-right-color: var(--fill-color);\n",
              "      border-top-color: var(--fill-color);\n",
              "    }\n",
              "    60% {\n",
              "      border-color: transparent;\n",
              "      border-right-color: var(--fill-color);\n",
              "    }\n",
              "    80% {\n",
              "      border-color: transparent;\n",
              "      border-right-color: var(--fill-color);\n",
              "      border-bottom-color: var(--fill-color);\n",
              "    }\n",
              "    90% {\n",
              "      border-color: transparent;\n",
              "      border-bottom-color: var(--fill-color);\n",
              "    }\n",
              "  }\n",
              "</style>\n",
              "\n",
              "  <script>\n",
              "    async function quickchart(key) {\n",
              "      const quickchartButtonEl =\n",
              "        document.querySelector('#' + key + ' button');\n",
              "      quickchartButtonEl.disabled = true;  // To prevent multiple clicks.\n",
              "      quickchartButtonEl.classList.add('colab-df-spinner');\n",
              "      try {\n",
              "        const charts = await google.colab.kernel.invokeFunction(\n",
              "            'suggestCharts', [key], {});\n",
              "      } catch (error) {\n",
              "        console.error('Error during call to suggestCharts:', error);\n",
              "      }\n",
              "      quickchartButtonEl.classList.remove('colab-df-spinner');\n",
              "      quickchartButtonEl.classList.add('colab-df-quickchart-complete');\n",
              "    }\n",
              "    (() => {\n",
              "      let quickchartButtonEl =\n",
              "        document.querySelector('#df-2aeea96d-d95e-4779-a18b-2585cfe6f92b button');\n",
              "      quickchartButtonEl.style.display =\n",
              "        google.colab.kernel.accessAllowed ? 'block' : 'none';\n",
              "    })();\n",
              "  </script>\n",
              "</div>\n",
              "\n",
              "    </div>\n",
              "  </div>\n"
            ],
            "text/plain": [
              "   Unnamed: 0.1  Unnamed: 0        id                                title  \\\n",
              "0             0           0  ts300399  Five Came Back: The Reference Films   \n",
              "1             1           1   tm82169                                Rocky   \n",
              "2             2           2   tm17823                               Grease   \n",
              "3             3           3   tm69975                             Rocky II   \n",
              "4             4           4  tm127384      Monty Python and the Holy Grail   \n",
              "\n",
              "    type  release_year age_certification  runtime                 genres  \\\n",
              "0   SHOW          1945             TV-MA       51      ['documentation']   \n",
              "1  MOVIE          1976                PG      119     ['drama', 'sport']   \n",
              "2  MOVIE          1978                PG      110  ['comedy', 'romance']   \n",
              "3  MOVIE          1979                PG      119     ['drama', 'sport']   \n",
              "4  MOVIE          1975                PG       91  ['fantasy', 'comedy']   \n",
              "\n",
              "  production_countries  ...  tmdb_popularity tmdb_score  \\\n",
              "0               ['US']  ...            0.601        NaN   \n",
              "1               ['US']  ...           99.713      7.783   \n",
              "2               ['US']  ...           33.160      7.406   \n",
              "3               ['US']  ...           74.191      7.200   \n",
              "4               ['GB']  ...           20.964      7.804   \n",
              "\n",
              "                     director         country  date_added  rating  duration  \\\n",
              "0                         NaN   United States  2021-02-09   TV-MA  1 Season   \n",
              "1            John G. Avildsen   United States  2019-08-01      PG   120 min   \n",
              "2              Randal Kleiser   United States  2019-11-01      PG   110 min   \n",
              "3          Sylvester Stallone   United States  2019-08-01      PG   119 min   \n",
              "4  Terry Gilliam, Terry Jones  United Kingdom  2019-01-02      PG    92 min   \n",
              "\n",
              "     year month  day  \n",
              "0  2021.0   2.0  9.0  \n",
              "1  2019.0   8.0  1.0  \n",
              "2  2019.0  11.0  1.0  \n",
              "3  2019.0   8.0  1.0  \n",
              "4  2019.0   1.0  2.0  \n",
              "\n",
              "[5 rows x 24 columns]"
            ]
          },
          "execution_count": 41,
          "metadata": {},
          "output_type": "execute_result"
        }
      ],
      "source": [
        "integrate_titles.head()"
      ]
    },
    {
      "cell_type": "code",
      "execution_count": null,
      "metadata": {
        "colab": {
          "base_uri": "https://localhost:8080/"
        },
        "id": "yoJXIEgHFyVc",
        "outputId": "33b745df-eb2b-4abd-e632-da0531468b01"
      },
      "outputs": [
        {
          "name": "stdout",
          "output_type": "stream",
          "text": [
            "<class 'pandas.core.frame.DataFrame'>\n",
            "RangeIndex: 4715 entries, 0 to 4714\n",
            "Data columns (total 24 columns):\n",
            " #   Column                Non-Null Count  Dtype  \n",
            "---  ------                --------------  -----  \n",
            " 0   Unnamed: 0.1          4715 non-null   int64  \n",
            " 1   Unnamed: 0            4715 non-null   int64  \n",
            " 2   id                    4715 non-null   object \n",
            " 3   title                 4715 non-null   object \n",
            " 4   type                  4715 non-null   object \n",
            " 5   release_year          4715 non-null   int64  \n",
            " 6   age_certification     2857 non-null   object \n",
            " 7   runtime               4715 non-null   int64  \n",
            " 8   genres                4715 non-null   object \n",
            " 9   production_countries  4715 non-null   object \n",
            " 10  seasons               1716 non-null   float64\n",
            " 11  imdb_id               4224 non-null   object \n",
            " 12  imdb_score            4170 non-null   float64\n",
            " 13  imdb_votes            4165 non-null   float64\n",
            " 14  tmdb_popularity       4679 non-null   float64\n",
            " 15  tmdb_score            4556 non-null   float64\n",
            " 16  director              3020 non-null   object \n",
            " 17  country               4210 non-null   object \n",
            " 18  date_added            4714 non-null   object \n",
            " 19  rating                4713 non-null   object \n",
            " 20  duration              4714 non-null   object \n",
            " 21  year                  4714 non-null   float64\n",
            " 22  month                 4714 non-null   float64\n",
            " 23  day                   4714 non-null   float64\n",
            "dtypes: float64(8), int64(4), object(12)\n",
            "memory usage: 884.2+ KB\n"
          ]
        }
      ],
      "source": [
        "integrate_titles.shape\n",
        "integrate_titles.info()"
      ]
    },
    {
      "cell_type": "markdown",
      "metadata": {
        "id": "fX7iVZLwdlEd"
      },
      "source": [
        "**Parte 1. Statistiche di base e analisi OLAP**\n",
        "\n",
        "Calcoliamo alcune statistiche di base, sulle colonne imdb_score e tmdb_score:\n",
        "1. Media;\n",
        "2. Deviazione standard;\n",
        "3. Varianza;\n",
        "4. Moda;\n",
        "5. Mediana."
      ]
    },
    {
      "cell_type": "markdown",
      "metadata": {
        "id": "2qWOdyij8uED"
      },
      "source": [
        "prima di tutto verifichiamo che non ci siano valori nulli"
      ]
    },
    {
      "cell_type": "code",
      "execution_count": null,
      "metadata": {
        "colab": {
          "base_uri": "https://localhost:8080/"
        },
        "id": "7CN1mqp58wOy",
        "outputId": "129141e9-e8a4-4e23-fe0c-43fe5d9dadbd"
      },
      "outputs": [
        {
          "name": "stdout",
          "output_type": "stream",
          "text": [
            "0\n",
            "159\n"
          ]
        }
      ],
      "source": [
        "#codice qui\n",
        "print(integrate_titles['imdb_score'].isnull().sum())\n",
        "print(integrate_titles['tmdb_score'].isnull().sum())\n"
      ]
    },
    {
      "cell_type": "markdown",
      "metadata": {
        "id": "0tFdAQNX9QPI"
      },
      "source": [
        "proviamo a riempire questi valori nulli con il valore medio degli elementi non nulli. Iniziamo con imdb"
      ]
    },
    {
      "cell_type": "code",
      "execution_count": null,
      "metadata": {
        "colab": {
          "base_uri": "https://localhost:8080/"
        },
        "id": "Kms9k91A9VeS",
        "outputId": "0090a0af-93b0-4c5b-d33a-eaaed563f658"
      },
      "outputs": [
        {
          "name": "stdout",
          "output_type": "stream",
          "text": [
            "6.612360495336927\n",
            "6.612360495336927\n"
          ]
        },
        {
          "name": "stderr",
          "output_type": "stream",
          "text": [
            "<ipython-input-47-1d6cb5a3c974>:15: FutureWarning: A value is trying to be set on a copy of a DataFrame or Series through chained assignment using an inplace method.\n",
            "The behavior will change in pandas 3.0. This inplace method will never work because the intermediate object on which we are setting values always behaves as a copy.\n",
            "\n",
            "For example, when doing 'df[col].method(value, inplace=True)', try using 'df.method({col: value}, inplace=True)' or df[col] = df[col].method(value) instead, to perform the operation inplace on the original object.\n",
            "\n",
            "\n",
            "  integrate_titles['imdb_score'].fillna(integrate_titles['imdb_score'].mean(),inplace=True)\n"
          ]
        }
      ],
      "source": [
        "#calcolo media non null\n",
        "indici_nulli = integrate_titles['imdb_score'].isnull()\n",
        "\n",
        "#INDICI NON NULLI\n",
        "indici_non_nulli = integrate_titles['imdb_score'].notnull()\n",
        "\n",
        "print(integrate_titles['imdb_score'][indici_non_nulli].mean())\n",
        "#sostituzione\n",
        "\n",
        "print(np.mean(integrate_titles['imdb_score'][indici_non_nulli]))\n",
        "\n",
        "\n",
        "integrate_titles.loc[indici_nulli,'imdb_score'] = media_non_nulli\n",
        "\n",
        "integrate_titles['imdb_score'].fillna(integrate_titles['imdb_score'].mean(),inplace=True)\n"
      ]
    },
    {
      "cell_type": "markdown",
      "metadata": {
        "id": "M4Ra52Xm-H7U"
      },
      "source": [
        "stessa cosa per tmdb"
      ]
    },
    {
      "cell_type": "code",
      "execution_count": null,
      "metadata": {
        "colab": {
          "base_uri": "https://localhost:8080/"
        },
        "id": "gBJulvEd-L5u",
        "outputId": "4fc49ebd-58e2-4176-f6c7-edf1b3a2c1d5"
      },
      "outputs": [
        {
          "name": "stdout",
          "output_type": "stream",
          "text": [
            "nan\n",
            "6.73794446883231\n"
          ]
        }
      ],
      "source": [
        "#codice qui\n",
        "#calcolo media non nulli\n",
        "indici_nulli = integrate_titles['tmdb_score'].isnull()\n",
        "indici_non_nulli = integrate_titles['tmdb_score'].notnull()\n",
        "print(integrate_titles['tmdb_score'].mean(skipna=False))\n",
        "print(integrate_titles['tmdb_score'].mean(skipna=True))\n",
        "\n"
      ]
    },
    {
      "cell_type": "markdown",
      "metadata": {
        "id": "kPGE7Qf--V2x"
      },
      "source": [
        "calcoliamo quindi le statistiche richieste"
      ]
    },
    {
      "cell_type": "code",
      "execution_count": null,
      "metadata": {
        "colab": {
          "base_uri": "https://localhost:8080/"
        },
        "id": "Jl7WtQxZd117",
        "outputId": "00adbef1-6e42-46ae-ac63-1801f2e55de8"
      },
      "outputs": [
        {
          "name": "stdout",
          "output_type": "stream",
          "text": [
            "media =6.612360495336927\n",
            "\n",
            "\n",
            "standard_dev =1.0493204725092433\n",
            "\n",
            "\n",
            "variance =1.1010734540270215\n",
            "\n",
            "\n",
            "mode =6.73794446883231\n",
            "\n",
            "\n",
            "median =6.73794446883231\n"
          ]
        }
      ],
      "source": [
        "media = integrate_titles['imdb_score'].mean()\n",
        "standard_dev = integrate_titles['imdb_score'].std()\n",
        "variance = integrate_titles['imdb_score'].var()\n",
        "mode = integrate_titles['imdb_score'].mode()\n",
        "median = integrate_titles['imdb_score'].median()\n",
        "print('media =' + str(media))\n",
        "print('\\n')\n",
        "print('standard_dev =' + str(standard_dev))\n",
        "print('\\n')\n",
        "print('variance =' + str(variance))\n",
        "print('\\n')\n",
        "print('mode =' + str(mode[0]))\n",
        "print('\\n')\n",
        "print('median =' + str(median))"
      ]
    },
    {
      "cell_type": "markdown",
      "metadata": {
        "id": "-rr-jCzRfuPZ"
      },
      "source": [
        "stampiamo i valori di imdb_score per verificare che la mediana sia corretta. Sortiamo l'array in ordine crescente e prendiamo il valore a metà del nostro array, per visualizzare la mediana."
      ]
    },
    {
      "cell_type": "code",
      "execution_count": null,
      "metadata": {
        "colab": {
          "base_uri": "https://localhost:8080/"
        },
        "id": "7kZ_Ham3fyzz",
        "outputId": "9f275c2e-7b91-4446-c865-1946b40d966a"
      },
      "outputs": [
        {
          "name": "stdout",
          "output_type": "stream",
          "text": [
            "6.73794446883231\n"
          ]
        }
      ],
      "source": [
        "sorted = np.sort(np.asarray((integrate_titles['imdb_score'].tolist())))\n",
        "print(sorted.tolist()[int(len(sorted.tolist())/2)])"
      ]
    },
    {
      "cell_type": "markdown",
      "metadata": {
        "id": "mVcQmR2m-zNa"
      },
      "source": [
        "ora facciamo la stessa cosa, ma senza riempire i valori nulli.\n",
        "Le funzioni che calcolano le statistiche in pandas, hanno un'opzione dropna=True di default, quindi non considerano i valori nulli, in automatico.  "
      ]
    },
    {
      "cell_type": "code",
      "execution_count": null,
      "metadata": {
        "id": "0S-YOnRd-372"
      },
      "outputs": [],
      "source": [
        "integrate_titles = pd.read_csv(\"integrate_titles2.csv\")"
      ]
    },
    {
      "cell_type": "code",
      "execution_count": null,
      "metadata": {
        "colab": {
          "base_uri": "https://localhost:8080/"
        },
        "id": "OE2LgSMi_CXP",
        "outputId": "3c356e81-68b0-4395-d826-ee7820221a8e"
      },
      "outputs": [
        {
          "name": "stdout",
          "output_type": "stream",
          "text": [
            "media =6.595947242206234\n",
            "\n",
            "\n",
            "standard_dev =1.1147565025873345\n",
            "\n",
            "\n",
            "variance =1.2426820600607458\n",
            "\n",
            "\n",
            "mode =6.6\n",
            "\n",
            "\n",
            "median =6.7\n"
          ]
        }
      ],
      "source": [
        "#codice qui\n",
        "media = integrate_titles['imdb_score'].mean()\n",
        "standard_dev = integrate_titles['imdb_score'].std()\n",
        "variance = integrate_titles['imdb_score'].var()\n",
        "mode = integrate_titles['imdb_score'].mode()\n",
        "median = integrate_titles['imdb_score'].median()\n",
        "print('media =' + str(media))\n",
        "print('\\n')\n",
        "print('standard_dev =' + str(standard_dev))\n",
        "print('\\n')\n",
        "print('variance =' + str(variance))\n",
        "print('\\n')\n",
        "print('mode =' + str(mode[0]))\n",
        "print('\\n')\n",
        "print('median =' + str(median))"
      ]
    },
    {
      "cell_type": "markdown",
      "metadata": {
        "id": "HbfXGgle_psr"
      },
      "source": [
        "come dimostrazione, eliminiamo le righe che contengono un valore nullo su imdb_score e ripetiamo le statistiche"
      ]
    },
    {
      "cell_type": "code",
      "execution_count": null,
      "metadata": {
        "id": "C3wBUAzk_yEH"
      },
      "outputs": [],
      "source": [
        "integrate_titles = pd.read_csv(\"integrate_titles2.csv\")\n",
        "integrate_titles = integrate_titles.dropna(axis=0, subset=['imdb_score'])"
      ]
    },
    {
      "cell_type": "code",
      "execution_count": null,
      "metadata": {
        "colab": {
          "base_uri": "https://localhost:8080/"
        },
        "id": "zmSlCphX_7Kx",
        "outputId": "da1246f1-8bc1-40d7-af9b-9dfb15302c9f"
      },
      "outputs": [
        {
          "name": "stdout",
          "output_type": "stream",
          "text": [
            "media =6.595947242206234\n",
            "\n",
            "\n",
            "standard_dev =1.1147565025873345\n",
            "\n",
            "\n",
            "variance =1.2426820600607458\n",
            "\n",
            "\n",
            "mode =6.6\n",
            "\n",
            "\n",
            "median =6.7\n"
          ]
        },
        {
          "data": {
            "text/plain": [
              "(4170, 24)"
            ]
          },
          "execution_count": 16,
          "metadata": {},
          "output_type": "execute_result"
        }
      ],
      "source": [
        "media = integrate_titles['imdb_score'].mean()\n",
        "standard_dev = integrate_titles['imdb_score'].std()\n",
        "variance = integrate_titles['imdb_score'].var()\n",
        "mode = integrate_titles['imdb_score'].mode()\n",
        "median = integrate_titles['imdb_score'].median()\n",
        "print('media =' + str(media))\n",
        "print('\\n')\n",
        "print('standard_dev =' + str(standard_dev))\n",
        "print('\\n')\n",
        "print('variance =' + str(variance))\n",
        "print('\\n')\n",
        "print('mode =' + str(mode[0]))\n",
        "print('\\n')\n",
        "print('median =' + str(median))\n",
        "integrate_titles.shape"
      ]
    },
    {
      "cell_type": "markdown",
      "metadata": {
        "id": "uqvLYHQZgDOP"
      },
      "source": [
        "A questo punto, usiamo quest'ultima versione  e predisponiamo il nostro dataset per un'analisi OLAP. Per prima cosa, quantizziamo lo score di IMBD. Possiamo usare questa quantizzazione:\n",
        "1. BAD = [0,4.9];\n",
        "2. SUFFICIENT = [5,5.9];\n",
        "3. GOOD = [6,6.9];\n",
        "4. VERY GOOD = [7,7.9];\n",
        "5. EXCELLENT = [8,10].\n",
        "\n",
        "**tip**\n",
        "\n",
        "Dobbiamo utilizzare la funzione between di pandas (between(min_range,max_range,'both'), la funzione loc per accedere ai valori del dataframe e creare una nuova colonna che chiamiamo 'imdb_score_quant\n"
      ]
    },
    {
      "cell_type": "code",
      "execution_count": null,
      "metadata": {
        "id": "L9OTeCMigUxT"
      },
      "outputs": [],
      "source": [
        "integrate_titles.loc[integrate_titles['imdb_score'].between(0, 4.9, 'both'), 'imdb_score_quant'] = 'LOW'\n",
        "integrate_titles.loc[integrate_titles['imdb_score'].between(5, 5.9, 'both'), 'imdb_score_quant'] = 'SUFFICIENT'\n",
        "integrate_titles.loc[integrate_titles['imdb_score'].between(6, 6.9, 'both'), 'imdb_score_quant'] = 'GOOD'\n",
        "integrate_titles.loc[integrate_titles['imdb_score'].between(7, 7.9, 'both'), 'imdb_score_quant'] = 'VERY GOOD'\n",
        "integrate_titles.loc[integrate_titles['imdb_score'].between(8, 10, 'both'), 'imdb_score_quant'] = 'EXCELLENT'\n",
        "\n",
        "quantize_imdb_score = ['LOW','SUFFICIENT','GOOD','VERY GOOD','EXCELLENT']"
      ]
    },
    {
      "cell_type": "markdown",
      "metadata": {
        "id": "wtwdXrILBKE_"
      },
      "source": [
        "visualizziamo la colonna che abbiamo aggiunto"
      ]
    },
    {
      "cell_type": "code",
      "execution_count": null,
      "metadata": {
        "colab": {
          "base_uri": "https://localhost:8080/"
        },
        "id": "BJlSShu-BMjj",
        "outputId": "dd47b861-ddf6-4713-e68e-cefa9443b193"
      },
      "outputs": [
        {
          "name": "stdout",
          "output_type": "stream",
          "text": [
            "0            GOOD\n",
            "1       EXCELLENT\n",
            "2       VERY GOOD\n",
            "3       VERY GOOD\n",
            "4       EXCELLENT\n",
            "          ...    \n",
            "4710    EXCELLENT\n",
            "4711    EXCELLENT\n",
            "4712         GOOD\n",
            "4713    EXCELLENT\n",
            "4714         GOOD\n",
            "Name: imdb_score_quant, Length: 4715, dtype: object\n"
          ]
        }
      ],
      "source": [
        "#codice qui\n",
        "print(integrate_titles['imdb_score_quant'])"
      ]
    },
    {
      "cell_type": "markdown",
      "metadata": {
        "id": "lIQ_Oe2ug_ek"
      },
      "source": [
        "Facciamo la stessa cosa per gli anni di uscita (release_year). Usiamo questa quantizzazione:\n",
        "\n",
        "1. VERY OLD = [1900,1980];\n",
        "3. OLD = [1981,2000].\n",
        "4. RECENT = [2001,2015];\n",
        "5. VERY RECENT = [2016,2023].\n",
        "\n"
      ]
    },
    {
      "cell_type": "code",
      "execution_count": null,
      "metadata": {
        "id": "x8kEZxv1C9FW"
      },
      "outputs": [],
      "source": [
        "#CODICE QUI\n",
        "integrate_titles.loc[integrate_titles['release_year'].between(1900, 1980, 'both'), 'release_year_quant'] = 'VERY OLD'\n",
        "integrate_titles.loc[integrate_titles['release_year'].between(1981,2000, 'both'), 'release_year_quant'] = 'OLD'\n",
        "integrate_titles.loc[integrate_titles['release_year'].between(2001, 2015, 'both'), 'release_year_quant'] = 'RECENT'\n",
        "integrate_titles.loc[integrate_titles['release_year'].between(2016, 2023, 'both'), 'release_year_quant'] = 'VERY RECENT'\n",
        "\n",
        "\n",
        "\n",
        "quantize_release_year = ['VERY OLD','OLD','RECENT','VERY RECENT']"
      ]
    },
    {
      "cell_type": "markdown",
      "metadata": {
        "id": "5Zi63wqUDdXS"
      },
      "source": [
        "visualizziamo anche questa colonna"
      ]
    },
    {
      "cell_type": "code",
      "execution_count": null,
      "metadata": {
        "colab": {
          "base_uri": "https://localhost:8080/"
        },
        "id": "gpHJyNyUDfHE",
        "outputId": "76efdf82-e1b7-4ca7-ee6c-5de80d3a657a"
      },
      "outputs": [
        {
          "name": "stdout",
          "output_type": "stream",
          "text": [
            "0          VERY OLD\n",
            "1          VERY OLD\n",
            "2          VERY OLD\n",
            "3          VERY OLD\n",
            "4          VERY OLD\n",
            "           ...     \n",
            "4710    VERY RECENT\n",
            "4711    VERY RECENT\n",
            "4712    VERY RECENT\n",
            "4713    VERY RECENT\n",
            "4714    VERY RECENT\n",
            "Name: release_year_quant, Length: 4715, dtype: object\n"
          ]
        }
      ],
      "source": [
        "#codice qui\n",
        "print(integrate_titles['release_year_quant'])"
      ]
    },
    {
      "cell_type": "markdown",
      "metadata": {
        "id": "9DI19BUaDqR0"
      },
      "source": [
        "Infine, utilizziamo SHOW_TYPE che risulta già quantizzato."
      ]
    },
    {
      "cell_type": "code",
      "execution_count": null,
      "metadata": {
        "colab": {
          "base_uri": "https://localhost:8080/"
        },
        "id": "uCl3o9_2FQyb",
        "outputId": "a5511518-3a66-4600-b5d6-86156bb0e4a5"
      },
      "outputs": [
        {
          "data": {
            "text/plain": [
              "0"
            ]
          },
          "execution_count": 35,
          "metadata": {},
          "output_type": "execute_result"
        }
      ],
      "source": [
        "integrate_titles['type'].isnull().sum()"
      ]
    },
    {
      "cell_type": "markdown",
      "metadata": {
        "id": "VJ6FwtF9FVpO"
      },
      "source": [
        "visualizziamo i possibili valori di type"
      ]
    },
    {
      "cell_type": "code",
      "execution_count": null,
      "metadata": {
        "id": "Mim5bZ7sFXqB"
      },
      "outputs": [],
      "source": [
        "np.unique(integrate_titles['type'])\n",
        "\n",
        "quantize_type = ['MOVIE','SHOW']"
      ]
    },
    {
      "cell_type": "markdown",
      "metadata": {
        "id": "xjRDgqytFbvW"
      },
      "source": [
        "come vediamo sono soltanto MOVIE and SHOW."
      ]
    },
    {
      "cell_type": "markdown",
      "metadata": {
        "id": "7Co7JPtLh4Oy"
      },
      "source": [
        "il programma a cui sono iscritti gli studenti è già discreto e quantizzato. Visualizziamo allora le colonne aggiunte"
      ]
    },
    {
      "cell_type": "markdown",
      "metadata": {
        "id": "tZc6d0ppjAkc"
      },
      "source": [
        "**Parte 2. Visualizzazione dei dati e OLAP**\n",
        "\n",
        "Abbiamo visto che esistono diverse modalita' di visualizzazione dei dati.\n",
        "\n",
        "In base al tipo di dato, alcune sono appropriate, altre possono non esserlo.\n",
        "\n",
        "La visualizzazione dei dati dipende da cosa vogliamo **comunicare**\n",
        "con i dati.\n",
        "\n",
        "Proviamo a visualizzare il dato in forma quantizzata per OLAP, poi faremo alcune visualizzazioni. Dobbiamo prima di tutto contare il numero di occorrenze di ciascun valore. Sarà sufficiente usare la funzione value_counts di pandas.\n",
        "Ricordiamo che abbiamo:\n",
        "- 5 valori possibili per Score;\n",
        "- 4 valori possibili per release_year;\n",
        "- 2 valori possibili per type"
      ]
    },
    {
      "cell_type": "code",
      "execution_count": null,
      "metadata": {
        "id": "RGsIY_FxjF6w"
      },
      "outputs": [],
      "source": [
        "#codice qui\n",
        "\n",
        "OLAP = np.zeros((5,4,2))\n",
        "for z in range(0,len(quantize_type)):\n",
        "  Awards_prog_z = integrate_titles[integrate_titles['type']==quantize_type[z]]\n",
        "  for j in range(0,len(quantize_release_year)):\n",
        "    for i in range(0,len(quantize_imdb_score)):\n",
        "      OLAP[i,j,z] = np.sum((Awards_prog_z['imdb_score_quant'] == quantize_imdb_score[i]) &(Awards_prog_z['release_year_quant'] == quantize_release_year[j]))"
      ]
    },
    {
      "cell_type": "markdown",
      "metadata": {
        "id": "u71f5nF1n48I"
      },
      "source": [
        "Per prima cosa, facciamo uno **slicing** rispetto a show_type"
      ]
    },
    {
      "cell_type": "code",
      "execution_count": null,
      "metadata": {
        "colab": {
          "base_uri": "https://localhost:8080/"
        },
        "id": "koFJF2Xin7gi",
        "outputId": "6af89340-bdf8-4d30-b45b-63c7fdd57d89"
      },
      "outputs": [
        {
          "name": "stdout",
          "output_type": "stream",
          "text": [
            "MOVIE\n"
          ]
        },
        {
          "data": {
            "text/plain": [
              "array([[  2.,  18.,  41., 189.],\n",
              "       [ 19.,  41., 122., 443.],\n",
              "       [134., 110., 256., 894.],\n",
              "       [ 38.,  41., 149., 398.],\n",
              "       [  6.,   7.,  46.,  45.]])"
            ]
          },
          "execution_count": 38,
          "metadata": {},
          "output_type": "execute_result"
        }
      ],
      "source": [
        "print('MOVIE')\n",
        "slice0 = OLAP[:,:,0]\n",
        "slice0"
      ]
    },
    {
      "cell_type": "markdown",
      "metadata": {
        "id": "H2xEC5G4IlrY"
      },
      "source": [
        "visualizziamo ora questa matrice, con una heatmap. Dobbiamo usare matplotlib e la funzione imshow."
      ]
    },
    {
      "cell_type": "code",
      "execution_count": null,
      "metadata": {
        "colab": {
          "base_uri": "https://localhost:8080/",
          "height": 490
        },
        "id": "m_o7mfE7IrVD",
        "outputId": "81c28965-dbe4-4b4b-f0c3-aa9c5ce921c4"
      },
      "outputs": [
        {
          "data": {
            "text/plain": [
              "<matplotlib.image.AxesImage at 0x7dcca53efd90>"
            ]
          },
          "execution_count": 39,
          "metadata": {},
          "output_type": "execute_result"
        },
        {
          "data": {
            "image/png": "[encoded data removed]",
            "text/plain": [
              "<Figure size 640x480 with 1 Axes>"
            ]
          },
          "metadata": {},
          "output_type": "display_data"
        }
      ],
      "source": [
        "#codice qui\n",
        "plt.figure()\n",
        "plt.title('FILM')\n",
        "plt.ylabel('IMBD_SCORE QUANTIZZATO')\n",
        "plt.xlabel('RELEASE_YEAR_QUANTIZZATO')\n",
        "plt.imshow(slice0)"
      ]
    },
    {
      "cell_type": "code",
      "execution_count": null,
      "metadata": {
        "colab": {
          "base_uri": "https://localhost:8080/"
        },
        "id": "JHDLRPxln8Cw",
        "outputId": "2f220876-a179-4084-a611-7f2767d16e41"
      },
      "outputs": [
        {
          "name": "stdout",
          "output_type": "stream",
          "text": [
            "SHOW\n"
          ]
        },
        {
          "data": {
            "text/plain": [
              "array([[  0.,   0.,   9.,  43.],\n",
              "       [  1.,   2.,  31., 122.],\n",
              "       [  0.,  16.,  48., 377.],\n",
              "       [  0.,  20.,  92., 504.],\n",
              "       [  4.,  12.,  94., 213.]])"
            ]
          },
          "execution_count": 26,
          "metadata": {},
          "output_type": "execute_result"
        }
      ],
      "source": [
        "print('SHOW')\n",
        "slice1 = OLAP[:,:,1]\n",
        "slice1"
      ]
    },
    {
      "cell_type": "markdown",
      "metadata": {
        "id": "uwcSGUMuI9NA"
      },
      "source": [
        "stessa cosa per show"
      ]
    },
    {
      "cell_type": "code",
      "execution_count": null,
      "metadata": {
        "colab": {
          "base_uri": "https://localhost:8080/",
          "height": 490
        },
        "id": "WJ3vEcOBI-Yf",
        "outputId": "561f80f0-774b-4a7f-9021-becbcabc768d"
      },
      "outputs": [
        {
          "data": {
            "text/plain": [
              "<matplotlib.image.AxesImage at 0x787ca83823d0>"
            ]
          },
          "execution_count": 27,
          "metadata": {},
          "output_type": "execute_result"
        },
        {
          "data": {
            "image/png": "[encoded data removed]",
            "text/plain": [
              "<Figure size 640x480 with 1 Axes>"
            ]
          },
          "metadata": {},
          "output_type": "display_data"
        }
      ],
      "source": [
        "#codice qui\n",
        "plt.figure()\n",
        "plt.title('SHOW')\n",
        "plt.ylabel('IMBD_SCORE QUANTIZZATO')\n",
        "plt.xlabel('RELEASE_YEAR_QUANTIZZATO')\n",
        "plt.imshow(slice1,cmap='gray')"
      ]
    },
    {
      "cell_type": "markdown",
      "metadata": {
        "id": "YKhDb9MwsALR"
      },
      "source": [
        "Notiamo (tra le altre cose), con questo slicing, che la maggior parte delle serie sono molto recenti, e che molte di esse sono valutate come very good. Mentre la maggior parte dei film molto recenti sono valutati good."
      ]
    },
    {
      "cell_type": "markdown",
      "metadata": {
        "id": "nUrUpe_aoJiV"
      },
      "source": [
        "adesso facciamo slicing rispetto al release_year, visualizzando soltanto i VERY OLD.\n"
      ]
    },
    {
      "cell_type": "code",
      "execution_count": null,
      "metadata": {
        "colab": {
          "base_uri": "https://localhost:8080/"
        },
        "id": "O0vens1sjozT",
        "outputId": "8df10688-df3d-4ab4-cdff-f5641ce04df1"
      },
      "outputs": [
        {
          "name": "stdout",
          "output_type": "stream",
          "text": [
            "VERY OLD\n"
          ]
        },
        {
          "data": {
            "text/plain": [
              "array([[ 2.,  0.],\n",
              "       [19.,  1.],\n",
              "       [45.,  0.],\n",
              "       [38.,  0.],\n",
              "       [ 6.,  4.]])"
            ]
          },
          "execution_count": 28,
          "metadata": {},
          "output_type": "execute_result"
        }
      ],
      "source": [
        "print('VERY OLD')\n",
        "slice_veryold = OLAP[:,0,:]\n",
        "slice_veryold"
      ]
    },
    {
      "cell_type": "markdown",
      "metadata": {
        "id": "Z5dVjzVTrrz2"
      },
      "source": [
        "possiamo notare come con questa visualizzazione, sia evidente che non il numero di show sia molto piccolo rispetto ai film, la cui valutazione è per lo più media."
      ]
    },
    {
      "cell_type": "markdown",
      "metadata": {
        "id": "mmDLsyt9IA0I"
      },
      "source": [
        "proviamo a visualizzare questa informazione con un grafico a linea."
      ]
    },
    {
      "cell_type": "code",
      "execution_count": null,
      "metadata": {
        "colab": {
          "base_uri": "https://localhost:8080/",
          "height": 490
        },
        "id": "Fk-O3fYPIDeR",
        "outputId": "34c2a753-4b4a-4fc5-8900-5ae383cddc51"
      },
      "outputs": [
        {
          "data": {
            "text/plain": [
              "[<matplotlib.lines.Line2D at 0x787ca811a610>]"
            ]
          },
          "execution_count": 29,
          "metadata": {},
          "output_type": "execute_result"
        },
        {
          "data": {
            "image/png": "[encoded data removed]",
            "text/plain": [
              "<Figure size 640x480 with 1 Axes>"
            ]
          },
          "metadata": {},
          "output_type": "display_data"
        }
      ],
      "source": [
        "#codice qui\n",
        "plt.figure()\n",
        "plt.title('film molto vecchi rispetto al punteggio')\n",
        "plt.xlabel('IMBD_SCORE QUANTIZZATO')\n",
        "plt.ylabel('NUMERO FILM')\n",
        "plt.plot(slice_veryold[:,0])"
      ]
    },
    {
      "cell_type": "markdown",
      "metadata": {
        "id": "TAgk97pKtAkm"
      },
      "source": [
        "a questo punto facciamo un dicing, visualizzando i film che hanno avuto una votazione \"GOOD\" e che siano \"VERY RECENT\".\n",
        "\n"
      ]
    },
    {
      "cell_type": "code",
      "execution_count": null,
      "metadata": {
        "colab": {
          "base_uri": "https://localhost:8080/"
        },
        "id": "aVVArT3_6G9l",
        "outputId": "597c8f6b-88ef-48d0-8d21-a972b9528029"
      },
      "outputs": [
        {
          "name": "stdout",
          "output_type": "stream",
          "text": [
            "GOOD and VERY RECENT\n"
          ]
        },
        {
          "data": {
            "text/plain": [
              "array([683., 377.])"
            ]
          },
          "execution_count": 30,
          "metadata": {},
          "output_type": "execute_result"
        }
      ],
      "source": [
        "print(\"GOOD and VERY RECENT\")\n",
        "slice_good_and_VERYRECENT = OLAP[2,3,:]\n",
        "slice_good_and_VERYRECENT"
      ]
    },
    {
      "cell_type": "markdown",
      "metadata": {
        "id": "DqIWTPxzJKZW"
      },
      "source": [
        "visualizziamo questa informazione con un bar plot"
      ]
    },
    {
      "cell_type": "code",
      "execution_count": null,
      "metadata": {
        "colab": {
          "base_uri": "https://localhost:8080/",
          "height": 490
        },
        "id": "QdDyjUk3JM7q",
        "outputId": "d10d9ba1-1962-4896-e6ae-6321e781475c"
      },
      "outputs": [
        {
          "data": {
            "text/plain": [
              "<BarContainer object of 2 artists>"
            ]
          },
          "execution_count": 31,
          "metadata": {},
          "output_type": "execute_result"
        },
        {
          "data": {
            "image/png": "[encoded data removed]",
            "text/plain": [
              "<Figure size 640x480 with 1 Axes>"
            ]
          },
          "metadata": {},
          "output_type": "display_data"
        }
      ],
      "source": [
        "plt.figure()\n",
        "plt.title('contenuti con valutazione GOOD e molto recenti')\n",
        "plt.xlabel('TYPE')\n",
        "plt.ylabel('NUMERO')\n",
        "plt.bar([1,2],slice_good_and_VERYRECENT)"
      ]
    },
    {
      "cell_type": "markdown",
      "metadata": {
        "id": "RsQgWGYQ6UBB"
      },
      "source": [
        "notiamo che ci sono più film che show."
      ]
    },
    {
      "cell_type": "markdown",
      "metadata": {
        "id": "ZHCgaRi6JyNI"
      },
      "source": [
        "A questo punto, vogliamo trovare un modo per visualizzare il numero di contenuti usciti nei vari anni, allo scopo di capire nuovamente se ci siano dei trend. Come possiamo fare?"
      ]
    },
    {
      "cell_type": "code",
      "execution_count": null,
      "metadata": {
        "id": "6QyZEmE9KtTt"
      },
      "outputs": [],
      "source": [
        "num_awards = integrate_titles['release_year'].value_counts(sort=True,normalize=True)\n"
      ]
    },
    {
      "cell_type": "code",
      "execution_count": null,
      "metadata": {
        "colab": {
          "base_uri": "https://localhost:8080/",
          "height": 418
        },
        "id": "ccN552M7cZRC",
        "outputId": "ef2e41f4-7066-4a20-ea20-a48d439988d3"
      },
      "outputs": [
        {
          "data": {
            "text/plain": [
              "<Axes: xlabel='release_year'>"
            ]
          },
          "execution_count": 33,
          "metadata": {},
          "output_type": "execute_result"
        },
        {
          "data": {
            "image/png": "[encoded data removed]",
            "text/plain": [
              "<Figure size 2000x600 with 1 Axes>"
            ]
          },
          "metadata": {},
          "output_type": "display_data"
        }
      ],
      "source": [
        "\n",
        "fig = plt.figure(figsize=(20, 6))\n",
        "num_awards.plot(kind='bar')\n"
      ]
    },
    {
      "cell_type": "markdown",
      "metadata": {
        "id": "CGfK7rP_UQkP"
      },
      "source": [
        "Di fatto, vorremo un istogramma (o un diagramma a barre?) Esistono altri due metodi per fare questo plot.\n",
        "\n",
        "Ne vediamo uno insieme."
      ]
    },
    {
      "cell_type": "code",
      "execution_count": null,
      "metadata": {
        "colab": {
          "base_uri": "https://localhost:8080/",
          "height": 283
        },
        "id": "YaPdB9vHUWfz",
        "outputId": "e1da005a-ef04-42a3-bb90-c3b790bc98db"
      },
      "outputs": [
        {
          "data": {
            "text/plain": [
              "<BarContainer object of 10 artists>"
            ]
          },
          "execution_count": 40,
          "metadata": {},
          "output_type": "execute_result"
        },
        {
          "data": {
            "image/png": "[encoded data removed]",
            "text/plain": [
              "<Figure size 432x288 with 1 Axes>"
            ]
          },
          "metadata": {
            "needs_background": "light"
          },
          "output_type": "display_data"
        }
      ],
      "source": [
        "histo = np.histogram(integrate_titles['release_year'],bins=10)\n",
        "plt.bar(x=np.asarray(range(10)),height=histo[0])"
      ]
    },
    {
      "cell_type": "markdown",
      "metadata": {
        "id": "GR8NFZvgUg89"
      },
      "source": [
        "L'altro consiste nell'usare la funzione 'hist' della libreria matplotlib. Provate a farlo!"
      ]
    },
    {
      "cell_type": "code",
      "execution_count": null,
      "metadata": {
        "colab": {
          "base_uri": "https://localhost:8080/",
          "height": 356
        },
        "id": "BZwIz7rxUlZ-",
        "outputId": "955fa954-e1f2-4cfa-fd00-5c17de0a3317"
      },
      "outputs": [
        {
          "data": {
            "text/plain": [
              "(array([  10.,   17.,   23.,   23.,   42.,   59.,  105.,  208.,  416.,\n",
              "        3267.]),\n",
              " array([1940. , 1948.2, 1956.4, 1964.6, 1972.8, 1981. , 1989.2, 1997.4,\n",
              "        2005.6, 2013.8, 2022. ]),\n",
              " <BarContainer object of 10 artists>)"
            ]
          },
          "execution_count": 41,
          "metadata": {},
          "output_type": "execute_result"
        },
        {
          "data": {
            "image/png": "[encoded data removed]",
            "text/plain": [
              "<Figure size 432x288 with 1 Axes>"
            ]
          },
          "metadata": {
            "needs_background": "light"
          },
          "output_type": "display_data"
        }
      ],
      "source": [
        "#codice qui\n",
        "plt.figure()\n",
        "plt.hist(integrate_titles['release_year'],bins=10)"
      ]
    },
    {
      "cell_type": "markdown",
      "metadata": {
        "id": "AHnrM4NfNUBQ"
      },
      "source": [
        "Esiste un modo alternativo di visualizzare questa informazione fornendo più dettagli?\n",
        "\n",
        "Usate i box plot\n",
        "\n",
        "funzione pandas boxplot (argomenti: column = 'colonna da visualizzare', by ='colonna rispetto a cui dividere')"
      ]
    },
    {
      "cell_type": "code",
      "execution_count": null,
      "metadata": {
        "colab": {
          "base_uri": "https://localhost:8080/",
          "height": 603
        },
        "id": "O4jR4bZHRNgF",
        "outputId": "a8e4ec26-3c9c-4efd-e7b3-a3a05a25a0ec"
      },
      "outputs": [
        {
          "data": {
            "text/plain": [
              "Text(0.5, 1.0, 'box plot per tipo (orizzontali)')"
            ]
          },
          "execution_count": 42,
          "metadata": {},
          "output_type": "execute_result"
        },
        {
          "data": {
            "image/png": "[encoded data removed]",
            "text/plain": [
              "<Figure size 432x288 with 1 Axes>"
            ]
          },
          "metadata": {
            "needs_background": "light"
          },
          "output_type": "display_data"
        },
        {
          "data": {
            "image/png": "[encoded data removed]",
            "text/plain": [
              "<Figure size 432x288 with 1 Axes>"
            ]
          },
          "metadata": {
            "needs_background": "light"
          },
          "output_type": "display_data"
        }
      ],
      "source": [
        "#codice qui\n",
        "\n",
        "integrate_titles.boxplot(column='release_year', by='type')\n",
        "plt.title('box plot per tipo')\n",
        "\n",
        "integrate_titles.boxplot(column='release_year', by='type',vert=False)\n",
        "plt.title('box plot per tipo (orizzontali)')\n"
      ]
    },
    {
      "cell_type": "markdown",
      "metadata": {
        "id": "JjbBtPvIPQBR"
      },
      "source": [
        "I box plot ci danno informazioni sulla distribuzione, non solo sulla media."
      ]
    },
    {
      "cell_type": "markdown",
      "metadata": {
        "id": "h_njBxLlMCQT"
      },
      "source": [
        "Infine, facciamo un esempio di roll-up e dripping-down.\n",
        "Utilizziamo la colonna date_added, che abbiamo sistemato durante il primo laboratorio."
      ]
    },
    {
      "cell_type": "code",
      "execution_count": null,
      "metadata": {
        "colab": {
          "base_uri": "https://localhost:8080/",
          "height": 453
        },
        "id": "gW1wVcmjNYKl",
        "outputId": "e4eedfc9-7394-481e-c46e-6c7e8b19586b"
      },
      "outputs": [
        {
          "data": {
            "text/html": [
              "\n",
              "  <div id=\"df-b018459a-6490-4333-a235-9e8547901122\">\n",
              "    <div class=\"colab-df-container\">\n",
              "      <div>\n",
              "<style scoped>\n",
              "    .dataframe tbody tr th:only-of-type {\n",
              "        vertical-align: middle;\n",
              "    }\n",
              "\n",
              "    .dataframe tbody tr th {\n",
              "        vertical-align: top;\n",
              "    }\n",
              "\n",
              "    .dataframe thead th {\n",
              "        text-align: right;\n",
              "    }\n",
              "</style>\n",
              "<table border=\"1\" class=\"dataframe\">\n",
              "  <thead>\n",
              "    <tr style=\"text-align: right;\">\n",
              "      <th></th>\n",
              "      <th>Unnamed: 0.1</th>\n",
              "      <th>Unnamed: 0</th>\n",
              "      <th>id</th>\n",
              "      <th>title</th>\n",
              "      <th>type</th>\n",
              "      <th>release_year</th>\n",
              "      <th>age_certification</th>\n",
              "      <th>runtime</th>\n",
              "      <th>genres</th>\n",
              "      <th>production_countries</th>\n",
              "      <th>...</th>\n",
              "      <th>director</th>\n",
              "      <th>country</th>\n",
              "      <th>date_added</th>\n",
              "      <th>rating</th>\n",
              "      <th>duration</th>\n",
              "      <th>year</th>\n",
              "      <th>month</th>\n",
              "      <th>day</th>\n",
              "      <th>imdb_score_quant</th>\n",
              "      <th>release_year_quant</th>\n",
              "    </tr>\n",
              "  </thead>\n",
              "  <tbody>\n",
              "    <tr>\n",
              "      <th>1</th>\n",
              "      <td>1</td>\n",
              "      <td>1</td>\n",
              "      <td>tm82169</td>\n",
              "      <td>Rocky</td>\n",
              "      <td>MOVIE</td>\n",
              "      <td>1976</td>\n",
              "      <td>PG</td>\n",
              "      <td>119</td>\n",
              "      <td>['drama', 'sport']</td>\n",
              "      <td>['US']</td>\n",
              "      <td>...</td>\n",
              "      <td>John G. Avildsen</td>\n",
              "      <td>United States</td>\n",
              "      <td>2019-08-01</td>\n",
              "      <td>PG</td>\n",
              "      <td>120 min</td>\n",
              "      <td>2019.0</td>\n",
              "      <td>8.0</td>\n",
              "      <td>1.0</td>\n",
              "      <td>EXCELLENT</td>\n",
              "      <td>VERY OLD</td>\n",
              "    </tr>\n",
              "    <tr>\n",
              "      <th>2</th>\n",
              "      <td>2</td>\n",
              "      <td>2</td>\n",
              "      <td>tm17823</td>\n",
              "      <td>Grease</td>\n",
              "      <td>MOVIE</td>\n",
              "      <td>1978</td>\n",
              "      <td>PG</td>\n",
              "      <td>110</td>\n",
              "      <td>['comedy', 'romance']</td>\n",
              "      <td>['US']</td>\n",
              "      <td>...</td>\n",
              "      <td>Randal Kleiser</td>\n",
              "      <td>United States</td>\n",
              "      <td>2019-11-01</td>\n",
              "      <td>PG</td>\n",
              "      <td>110 min</td>\n",
              "      <td>2019.0</td>\n",
              "      <td>11.0</td>\n",
              "      <td>1.0</td>\n",
              "      <td>VERY GOOD</td>\n",
              "      <td>VERY OLD</td>\n",
              "    </tr>\n",
              "    <tr>\n",
              "      <th>3</th>\n",
              "      <td>3</td>\n",
              "      <td>3</td>\n",
              "      <td>tm69975</td>\n",
              "      <td>Rocky II</td>\n",
              "      <td>MOVIE</td>\n",
              "      <td>1979</td>\n",
              "      <td>PG</td>\n",
              "      <td>119</td>\n",
              "      <td>['drama', 'sport']</td>\n",
              "      <td>['US']</td>\n",
              "      <td>...</td>\n",
              "      <td>Sylvester Stallone</td>\n",
              "      <td>United States</td>\n",
              "      <td>2019-08-01</td>\n",
              "      <td>PG</td>\n",
              "      <td>119 min</td>\n",
              "      <td>2019.0</td>\n",
              "      <td>8.0</td>\n",
              "      <td>1.0</td>\n",
              "      <td>VERY GOOD</td>\n",
              "      <td>VERY OLD</td>\n",
              "    </tr>\n",
              "    <tr>\n",
              "      <th>4</th>\n",
              "      <td>4</td>\n",
              "      <td>4</td>\n",
              "      <td>tm127384</td>\n",
              "      <td>Monty Python and the Holy Grail</td>\n",
              "      <td>MOVIE</td>\n",
              "      <td>1975</td>\n",
              "      <td>PG</td>\n",
              "      <td>91</td>\n",
              "      <td>['fantasy', 'comedy']</td>\n",
              "      <td>['GB']</td>\n",
              "      <td>...</td>\n",
              "      <td>Terry Gilliam, Terry Jones</td>\n",
              "      <td>United Kingdom</td>\n",
              "      <td>2019-01-02</td>\n",
              "      <td>PG</td>\n",
              "      <td>92 min</td>\n",
              "      <td>2019.0</td>\n",
              "      <td>1.0</td>\n",
              "      <td>2.0</td>\n",
              "      <td>EXCELLENT</td>\n",
              "      <td>VERY OLD</td>\n",
              "    </tr>\n",
              "    <tr>\n",
              "      <th>5</th>\n",
              "      <td>5</td>\n",
              "      <td>5</td>\n",
              "      <td>ts22164</td>\n",
              "      <td>Monty Python's Flying Circus</td>\n",
              "      <td>SHOW</td>\n",
              "      <td>1969</td>\n",
              "      <td>TV-14</td>\n",
              "      <td>30</td>\n",
              "      <td>['comedy', 'european']</td>\n",
              "      <td>['GB']</td>\n",
              "      <td>...</td>\n",
              "      <td>NaN</td>\n",
              "      <td>United Kingdom</td>\n",
              "      <td>2018-10-02</td>\n",
              "      <td>TV-14</td>\n",
              "      <td>4 Seasons</td>\n",
              "      <td>2018.0</td>\n",
              "      <td>10.0</td>\n",
              "      <td>2.0</td>\n",
              "      <td>EXCELLENT</td>\n",
              "      <td>VERY OLD</td>\n",
              "    </tr>\n",
              "  </tbody>\n",
              "</table>\n",
              "<p>5 rows × 26 columns</p>\n",
              "</div>\n",
              "      <button class=\"colab-df-convert\" onclick=\"convertToInteractive('df-b018459a-6490-4333-a235-9e8547901122')\"\n",
              "              title=\"Convert this dataframe to an interactive table.\"\n",
              "              style=\"display:none;\">\n",
              "        \n",
              "  <svg xmlns=\"http://www.w3.org/2000/svg\" height=\"24px\"viewBox=\"0 0 24 24\"\n",
              "       width=\"24px\">\n",
              "    <path d=\"M0 0h24v24H0V0z\" fill=\"none\"/>\n",
              "    <path d=\"M18.56 5.44l.94 2.06.94-2.06 2.06-.94-2.06-.94-.94-2.06-.94 2.06-2.06.94zm-11 1L8.5 8.5l.94-2.06 2.06-.94-2.06-.94L8.5 2.5l-.94 2.06-2.06.94zm10 10l.94 2.06.94-2.06 2.06-.94-2.06-.94-.94-2.06-.94 2.06-2.06.94z\"/><path d=\"M17.41 7.96l-1.37-1.37c-.4-.4-.92-.59-1.43-.59-.52 0-1.04.2-1.43.59L10.3 9.45l-7.72 7.72c-.78.78-.78 2.05 0 2.83L4 21.41c.39.39.9.59 1.41.59.51 0 1.02-.2 1.41-.59l7.78-7.78 2.81-2.81c.8-.78.8-2.07 0-2.86zM5.41 20L4 18.59l7.72-7.72 1.47 1.35L5.41 20z\"/>\n",
              "  </svg>\n",
              "      </button>\n",
              "      \n",
              "  <style>\n",
              "    .colab-df-container {\n",
              "      display:flex;\n",
              "      flex-wrap:wrap;\n",
              "      gap: 12px;\n",
              "    }\n",
              "\n",
              "    .colab-df-convert {\n",
              "      background-color: #E8F0FE;\n",
              "      border: none;\n",
              "      border-radius: 50%;\n",
              "      cursor: pointer;\n",
              "      display: none;\n",
              "      fill: #1967D2;\n",
              "      height: 32px;\n",
              "      padding: 0 0 0 0;\n",
              "      width: 32px;\n",
              "    }\n",
              "\n",
              "    .colab-df-convert:hover {\n",
              "      background-color: #E2EBFA;\n",
              "      box-shadow: 0px 1px 2px rgba(60, 64, 67, 0.3), 0px 1px 3px 1px rgba(60, 64, 67, 0.15);\n",
              "      fill: #174EA6;\n",
              "    }\n",
              "\n",
              "    [theme=dark] .colab-df-convert {\n",
              "      background-color: #3B4455;\n",
              "      fill: #D2E3FC;\n",
              "    }\n",
              "\n",
              "    [theme=dark] .colab-df-convert:hover {\n",
              "      background-color: #434B5C;\n",
              "      box-shadow: 0px 1px 3px 1px rgba(0, 0, 0, 0.15);\n",
              "      filter: drop-shadow(0px 1px 2px rgba(0, 0, 0, 0.3));\n",
              "      fill: #FFFFFF;\n",
              "    }\n",
              "  </style>\n",
              "\n",
              "      <script>\n",
              "        const buttonEl =\n",
              "          document.querySelector('#df-b018459a-6490-4333-a235-9e8547901122 button.colab-df-convert');\n",
              "        buttonEl.style.display =\n",
              "          google.colab.kernel.accessAllowed ? 'block' : 'none';\n",
              "\n",
              "        async function convertToInteractive(key) {\n",
              "          const element = document.querySelector('#df-b018459a-6490-4333-a235-9e8547901122');\n",
              "          const dataTable =\n",
              "            await google.colab.kernel.invokeFunction('convertToInteractive',\n",
              "                                                     [key], {});\n",
              "          if (!dataTable) return;\n",
              "\n",
              "          const docLinkHtml = 'Like what you see? Visit the ' +\n",
              "            '<a target=\"_blank\" href=https://colab.research.google.com/notebooks/data_table.ipynb>data table notebook</a>'\n",
              "            + ' to learn more about interactive tables.';\n",
              "          element.innerHTML = '';\n",
              "          dataTable['output_type'] = 'display_data';\n",
              "          await google.colab.output.renderOutput(dataTable, element);\n",
              "          const docLink = document.createElement('div');\n",
              "          docLink.innerHTML = docLinkHtml;\n",
              "          element.appendChild(docLink);\n",
              "        }\n",
              "      </script>\n",
              "    </div>\n",
              "  </div>\n",
              "  "
            ],
            "text/plain": [
              "   Unnamed: 0.1  Unnamed: 0        id                            title   type  \\\n",
              "1             1           1   tm82169                            Rocky  MOVIE   \n",
              "2             2           2   tm17823                           Grease  MOVIE   \n",
              "3             3           3   tm69975                         Rocky II  MOVIE   \n",
              "4             4           4  tm127384  Monty Python and the Holy Grail  MOVIE   \n",
              "5             5           5   ts22164     Monty Python's Flying Circus   SHOW   \n",
              "\n",
              "   release_year age_certification  runtime                  genres  \\\n",
              "1          1976                PG      119      ['drama', 'sport']   \n",
              "2          1978                PG      110   ['comedy', 'romance']   \n",
              "3          1979                PG      119      ['drama', 'sport']   \n",
              "4          1975                PG       91   ['fantasy', 'comedy']   \n",
              "5          1969             TV-14       30  ['comedy', 'european']   \n",
              "\n",
              "  production_countries  ...                    director         country  \\\n",
              "1               ['US']  ...            John G. Avildsen   United States   \n",
              "2               ['US']  ...              Randal Kleiser   United States   \n",
              "3               ['US']  ...          Sylvester Stallone   United States   \n",
              "4               ['GB']  ...  Terry Gilliam, Terry Jones  United Kingdom   \n",
              "5               ['GB']  ...                         NaN  United Kingdom   \n",
              "\n",
              "   date_added  rating   duration    year month  day imdb_score_quant  \\\n",
              "1  2019-08-01      PG    120 min  2019.0   8.0  1.0        EXCELLENT   \n",
              "2  2019-11-01      PG    110 min  2019.0  11.0  1.0        VERY GOOD   \n",
              "3  2019-08-01      PG    119 min  2019.0   8.0  1.0        VERY GOOD   \n",
              "4  2019-01-02      PG     92 min  2019.0   1.0  2.0        EXCELLENT   \n",
              "5  2018-10-02   TV-14  4 Seasons  2018.0  10.0  2.0        EXCELLENT   \n",
              "\n",
              "  release_year_quant  \n",
              "1           VERY OLD  \n",
              "2           VERY OLD  \n",
              "3           VERY OLD  \n",
              "4           VERY OLD  \n",
              "5           VERY OLD  \n",
              "\n",
              "[5 rows x 26 columns]"
            ]
          },
          "execution_count": 43,
          "metadata": {},
          "output_type": "execute_result"
        }
      ],
      "source": [
        "integrate_titles.head()"
      ]
    },
    {
      "cell_type": "markdown",
      "metadata": {
        "id": "g7WihnNKNAvQ"
      },
      "source": [
        "come roll-up, visualizziamo con diagramma a barre, il numero di film per decennio dal 1950-1960 al 2020-2030"
      ]
    },
    {
      "cell_type": "code",
      "execution_count": null,
      "metadata": {
        "colab": {
          "base_uri": "https://localhost:8080/",
          "height": 466
        },
        "id": "x1NTYCeHM_OE",
        "outputId": "db7443fa-d8fd-49a6-e7cf-8feed870449e"
      },
      "outputs": [
        {
          "name": "stdout",
          "output_type": "stream",
          "text": [
            "[  5.   2.   5.  10.  24.  58. 753.   0.]\n"
          ]
        },
        {
          "data": {
            "text/plain": [
              "<BarContainer object of 8 artists>"
            ]
          },
          "execution_count": 6,
          "metadata": {},
          "output_type": "execute_result"
        },
        {
          "data": {
            "image/png": "[encoded data removed]",
            "text/plain": [
              "<Figure size 640x480 with 1 Axes>"
            ]
          },
          "metadata": {},
          "output_type": "display_data"
        }
      ],
      "source": [
        "#codice qui\n",
        "\n",
        "\n",
        "num_film = np.zeros((8))\n",
        "\n",
        "for i in range(1,8):\n",
        "  num_film[i-1] = np.sum(((integrate_titles['release_year'].astype(int) - 1950)/10)==float(i))\n",
        "\n",
        "print(num_film)\n",
        "\n",
        "plt.bar(x=np.asarray(range(8)),height=num_film)"
      ]
    },
    {
      "cell_type": "markdown",
      "metadata": {
        "id": "qBIIkZd2OY2u"
      },
      "source": [
        "come esempio di dripping down, selezioniamo l'anno 2020, e visualizziamo la stessa informazione di prima (numero di film usciti per mese)"
      ]
    },
    {
      "cell_type": "code",
      "execution_count": null,
      "metadata": {
        "colab": {
          "base_uri": "https://localhost:8080/",
          "height": 301
        },
        "id": "09OuJzlpOfk8",
        "outputId": "843ce5e0-1c73-4ea5-f7e3-8a9b951bbaa1"
      },
      "outputs": [
        {
          "name": "stdout",
          "output_type": "stream",
          "text": [
            "[39. 35. 50. 61. 49. 56. 59. 53. 56. 63. 49. 62.]\n"
          ]
        },
        {
          "data": {
            "text/plain": [
              "<BarContainer object of 12 artists>"
            ]
          },
          "execution_count": 45,
          "metadata": {},
          "output_type": "execute_result"
        },
        {
          "data": {
            "image/png": "[encoded data removed]",
            "text/plain": [
              "<Figure size 432x288 with 1 Axes>"
            ]
          },
          "metadata": {
            "needs_background": "light"
          },
          "output_type": "display_data"
        }
      ],
      "source": [
        "#codice qui\n",
        "anno_2022 = integrate_titles[integrate_titles['release_year']==2020]\n",
        "\n",
        "num_film = np.zeros((12))\n",
        "\n",
        "for i in range(1,13):\n",
        "  num_film[i-1] = np.sum(anno_2022['month']==float(i))\n",
        "\n",
        "print(num_film)\n",
        "\n",
        "plt.bar(x=np.asarray(range(12)),height=num_film)"
      ]
    }
  ],
  "metadata": {
    "colab": {
      "provenance": []
    },
    "kernelspec": {
      "display_name": ".venv",
      "language": "python",
      "name": "python3"
    },
    "language_info": {
      "codemirror_mode": {
        "name": "ipython",
        "version": 3
      },
      "file_extension": ".py",
      "mimetype": "text/x-python",
      "name": "python",
      "nbconvert_exporter": "python",
      "pygments_lexer": "ipython3",
      "version": "3.11.9"
    }
  },
  "nbformat": 4,
  "nbformat_minor": 0
}
